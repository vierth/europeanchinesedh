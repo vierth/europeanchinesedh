{
 "cells": [
  {
   "cell_type": "markdown",
   "id": "851d5341",
   "metadata": {},
   "source": [
    "# Corpus cleaner\n",
    "This quick script takes an input folder and outputs a cleaned version of the files. This is often an advisable move when you are working with a large number of texts and cleaning on the fly begins to be too slow."
   ]
  },
  {
   "cell_type": "code",
   "execution_count": null,
   "id": "505fe909",
   "metadata": {},
   "outputs": [],
   "source": [
    "# This contains google drive stuff. No need to run this cell if you are not using google collab\n",
    "from google.colab import drive\n",
    "drive.mount('/content/drive/')\n",
    "%cd drive/MyDrive/europeanchinesedh-main/"
   ]
  },
  {
   "cell_type": "code",
   "execution_count": 6,
   "id": "0e7005e7",
   "metadata": {},
   "outputs": [],
   "source": [
    "import os\n",
    "import re\n",
    "\n",
    "# Custom local modules with useful utilities\n",
    "from clean import clean # for cleaning the text\n",
    "from totrad import Convert # to convert to tradtitional characters\n"
   ]
  },
  {
   "cell_type": "markdown",
   "id": "b55af212",
   "metadata": {},
   "source": [
    "## Adjustable Variables\n",
    "\n",
    "### corpus_folder_name\n",
    "string, the name of the folder containing the input corpus\n",
    "\n",
    "### output_corpus_folder_name\n",
    "string, name of the output corpus. Creates the folder if it does not already exist.\n",
    "<span style=\"color:red\">DANGER!!!</span> This will overwrite anything that exists with the same filename in this folder. I highly recommend that you DO NOT use the same folder as your input folder, as it will overwrite your originals.\n",
    "\n",
    "### remove_whitespace\n",
    "Boolean. True to remove whitespace, False to keep it\n",
    "\n",
    "### convert_to_traditional\n",
    "Boolean. True to convert to traditional characterset, False to leave alone. Useful if you have mixed charactersets across different files."
   ]
  },
  {
   "cell_type": "code",
   "execution_count": 7,
   "id": "bdc1d4fc",
   "metadata": {},
   "outputs": [],
   "source": [
    "corpus_folder_name = \"demo_corpus\"\n",
    "\n",
    "output_corpus_folder_name = \"cleaned_corpus\"\n",
    "\n",
    "remove_whitespace = True\n",
    "\n",
    "convert_to_traditional = True"
   ]
  },
  {
   "cell_type": "markdown",
   "id": "fd6126cb",
   "metadata": {},
   "source": [
    "## The rest of the script\n",
    "No need to adjust anything beyond this!"
   ]
  },
  {
   "cell_type": "code",
   "execution_count": 8,
   "id": "49e8d68e",
   "metadata": {},
   "outputs": [],
   "source": [
    "if gdrive_loc:\n",
    "    corpus_folder_name = f\"{gdrive_loc}/{corpus_folder_name}\"\n",
    "    output_corpus_folder_name = f\"{gdrive_loc}/{output_corpus_folder_name}\"\n",
    "\n",
    "if convert_to_traditional:\n",
    "    c = Convert(preserve_multiple=False)\n",
    "\n",
    "if not os.path.isdir(gdriveoutput_corpus_folder_name):\n",
    "    os.mkdir(output_corpus_folder_name)\n",
    "    \n",
    "for root, dirs, files in os.walk(corpus_folder_name):\n",
    "    for fname in files:\n",
    "        if fname.endswith(\".txt\"):\n",
    "            with open(os.path.join(root, fname), 'r', encoding='utf8') as rf:\n",
    "                text = clean(rf.read(), remove_whitespace=remove_whitespace)\n",
    "                # if covert_to_traditional is set to True, convert\n",
    "                if convert_to_traditional:\n",
    "                    fname = c.to_trad(fname)\n",
    "                    text = c.to_trad(text)\n",
    "                    \n",
    "                with open(os.path.join(output_corpus_folder_name, fname), 'w', encoding='utf8') as wf:\n",
    "                    wf.write(text)\n",
    "                "
   ]
  }
 ],
 "metadata": {
  "kernelspec": {
   "display_name": "Python 3 (ipykernel)",
   "language": "python",
   "name": "python3"
  },
  "language_info": {
   "codemirror_mode": {
    "name": "ipython",
    "version": 3
   },
   "file_extension": ".py",
   "mimetype": "text/x-python",
   "name": "python",
   "nbconvert_exporter": "python",
   "pygments_lexer": "ipython3",
   "version": "3.9.7"
  }
 },
 "nbformat": 4,
 "nbformat_minor": 5
}
