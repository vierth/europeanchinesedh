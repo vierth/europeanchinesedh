{
 "cells": [
  {
   "cell_type": "code",
   "execution_count": null,
   "id": "dff955ea",
   "metadata": {},
   "outputs": [],
   "source": [
    "from google.colab import drive\n",
    "drive.mount('/content/drive/')\n",
    "%cd drive/MyDrive/europeanchinesedh-main/"
   ]
  },
  {
   "cell_type": "code",
   "execution_count": null,
   "id": "f7703f04",
   "metadata": {},
   "outputs": [],
   "source": [
    "# this basic script will remove markup from documents\n",
    "from bs4 import BeautifulSoup\n",
    "import os\n",
    "\n",
    "sourcefolder = \"html_corpus\"\n",
    "savefolder = \"nohtml\"\n",
    "\n",
    "\n",
    "\n",
    "if not os.path.isdir(savefolder):\n",
    "    os.mkdir(savefolder)\n",
    "\n",
    "for root, dirs, files in os.walk(sourcefolder):\n",
    "    for filename in files:\n",
    "        with open(os.path.join(root, filename), \"r\", encoding=\"utf8\", errors=\"ignore\") as rf:\n",
    "            html = rf.read()\n",
    "        \n",
    "        text = BeautifulSoup(html, \"lxml\").text\n",
    "\n",
    "        newfilename = filename[:filename.rfind(\".\")]+\".txt\"\n",
    "        with open(os.path.join(savefolder, newfilename), \"w\", encoding=\"utf8\", errors=\"ignore\") as wf:\n",
    "            wf.write(text)"
   ]
  }
 ],
 "metadata": {
  "kernelspec": {
   "display_name": "Python 3 (ipykernel)",
   "language": "python",
   "name": "python3"
  },
  "language_info": {
   "codemirror_mode": {
    "name": "ipython",
    "version": 3
   },
   "file_extension": ".py",
   "mimetype": "text/x-python",
   "name": "python",
   "nbconvert_exporter": "python",
   "pygments_lexer": "ipython3",
   "version": "3.9.7"
  }
 },
 "nbformat": 4,
 "nbformat_minor": 5
}
