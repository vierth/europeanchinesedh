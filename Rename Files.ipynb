{
 "cells": [
  {
   "cell_type": "code",
   "execution_count": null,
   "id": "bc979fee",
   "metadata": {},
   "outputs": [],
   "source": [
    "from google.colab import drive\n",
    "drive.mount('/content/drive/')\n",
    "%cd drive/MyDrive/europeanchinesedh-main/"
   ]
  },
  {
   "cell_type": "code",
   "execution_count": null,
   "id": "2bca04cc",
   "metadata": {},
   "outputs": [],
   "source": [
    "# this is a quick script that you can use to rename the files in a folder\n",
    "import os\n",
    "\n",
    "for root, dirs, files in os.walk(f\"forrenaming\"):\n",
    "    for filename in files:\n",
    "        newname = \"test_\" + filename\n",
    "        os.rename(os.path.join(root, filename), os.path.join(root, newname))\n"
   ]
  }
 ],
 "metadata": {
  "kernelspec": {
   "display_name": "Python 3 (ipykernel)",
   "language": "python",
   "name": "python3"
  },
  "language_info": {
   "codemirror_mode": {
    "name": "ipython",
    "version": 3
   },
   "file_extension": ".py",
   "mimetype": "text/x-python",
   "name": "python",
   "nbconvert_exporter": "python",
   "pygments_lexer": "ipython3",
   "version": "3.9.7"
  }
 },
 "nbformat": 4,
 "nbformat_minor": 5
}
