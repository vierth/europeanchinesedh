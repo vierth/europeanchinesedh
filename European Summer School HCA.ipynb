{
 "cells": [
  {
   "cell_type": "markdown",
   "id": "7ec165f6",
   "metadata": {},
   "source": [
    "# European Summer School in Chinese Digital Humanities\n",
    "\n",
    "## Stylometry: HCA\n",
    "In this notebook I will introduce a script that will allow you to conduct stylometric analysis by only changing a few options. This notebook will perform heirarchical cluster analysis.\n",
    "\n",
    "### The imports\n",
    "There are a number of items from various Python librarys that we need to import to conduct the analysis we are interested in. It is, of course, possible for us to write all of the code necessary for this ourselves, but it is much preferable to rely on things that other people have created for us."
   ]
  },
  {
   "cell_type": "code",
   "execution_count": 24,
   "id": "f8beda25",
   "metadata": {},
   "outputs": [],
   "source": [
    "# Library for loading data\n",
    "import os\n",
    "\n",
    "# Libraries for analysis\n",
    "from sklearn.feature_extraction.text import TfidfVectorizer\n",
    "from sklearn.metrics.pairwise import cosine_similarity, euclidean_distances\n",
    "from scipy.cluster.hierarchy import linkage\n",
    "\n",
    "# Library for visualization\n",
    "import plotly\n",
    "from plotly.figure_factory import create_dendrogram\n",
    "\n",
    "# Custom local modules with useful utilities\n",
    "from clean import clean # for cleaning the text\n",
    "from totrad import Convert # to convert to tradtitional characters"
   ]
  },
  {
   "cell_type": "markdown",
   "id": "ed56baf3",
   "metadata": {},
   "source": [
    "### Set analysis options\n",
    "\n",
    "#### corpus_folder_name\n",
    "Provide the name of the corpus folder in a string. Leave as \"demo_corpus\" to use the supplied corpus.\n",
    "\n",
    "#### analysis_vocab_file\n",
    "If you want to provide a custom set of words to use for the analysis provide the name of a text file that contains the words, one word to a line. This should be a string like\n",
    "\"analysis_vocab.txt\"\n",
    "\n",
    "#### most_common_words\n",
    "Set the number of most common terms to use for your analysis. This is ignored if you provide a vocab file. By default this is set to None, which will analyze every word in the corpus. This should be an integer like\n",
    "100\n",
    "\n",
    "#### convert_to_traditional\n",
    "Set this to False to not modify the characters in the files. Set it to True if you would like to perform autoconversion"
   ]
  },
  {
   "cell_type": "code",
   "execution_count": 25,
   "id": "e9739638",
   "metadata": {},
   "outputs": [],
   "source": [
    "corpus_folder_name = \"demo_corpus\"\n",
    "\n",
    "analysis_vocab_file = None\n",
    "\n",
    "most_common_words = 100\n",
    "\n",
    "convert_to_traditional = False"
   ]
  },
  {
   "cell_type": "code",
   "execution_count": 27,
   "id": "72f89df0",
   "metadata": {},
   "outputs": [
    {
     "data": {
      "application/vnd.plotly.v1+json": {
       "config": {
        "plotlyServerURL": "https://plot.ly"
       },
       "data": [
        {
         "hoverinfo": "text",
         "marker": {
          "color": "rgb(61,153,112)"
         },
         "mode": "lines",
         "type": "scatter",
         "x": [
          0,
          -1.3356867871294575,
          -1.3356867871294575,
          0
         ],
         "xaxis": "x",
         "y": [
          5,
          5,
          15,
          15
         ],
         "yaxis": "y"
        },
        {
         "hoverinfo": "text",
         "marker": {
          "color": "rgb(61,153,112)"
         },
         "mode": "lines",
         "type": "scatter",
         "x": [
          0,
          -0.3363552928259562,
          -0.3363552928259562,
          0
         ],
         "xaxis": "x",
         "y": [
          35,
          35,
          45,
          45
         ],
         "yaxis": "y"
        },
        {
         "hoverinfo": "text",
         "marker": {
          "color": "rgb(61,153,112)"
         },
         "mode": "lines",
         "type": "scatter",
         "x": [
          0,
          -0.441218020942909,
          -0.441218020942909,
          -0.3363552928259562
         ],
         "xaxis": "x",
         "y": [
          25,
          25,
          40,
          40
         ],
         "yaxis": "y"
        },
        {
         "hoverinfo": "text",
         "marker": {
          "color": "rgb(61,153,112)"
         },
         "mode": "lines",
         "type": "scatter",
         "x": [
          0,
          -0.5954783742564366,
          -0.5954783742564366,
          0
         ],
         "xaxis": "x",
         "y": [
          55,
          55,
          65,
          65
         ],
         "yaxis": "y"
        },
        {
         "hoverinfo": "text",
         "marker": {
          "color": "rgb(61,153,112)"
         },
         "mode": "lines",
         "type": "scatter",
         "x": [
          -0.441218020942909,
          -0.9810134716815513,
          -0.9810134716815513,
          -0.5954783742564366
         ],
         "xaxis": "x",
         "y": [
          32.5,
          32.5,
          60,
          60
         ],
         "yaxis": "y"
        },
        {
         "hoverinfo": "text",
         "marker": {
          "color": "rgb(61,153,112)"
         },
         "mode": "lines",
         "type": "scatter",
         "x": [
          0,
          -0.9317007350429,
          -0.9317007350429,
          0
         ],
         "xaxis": "x",
         "y": [
          85,
          85,
          95,
          95
         ],
         "yaxis": "y"
        },
        {
         "hoverinfo": "text",
         "marker": {
          "color": "rgb(61,153,112)"
         },
         "mode": "lines",
         "type": "scatter",
         "x": [
          0,
          -1.2951584315859224,
          -1.2951584315859224,
          -0.9317007350429
         ],
         "xaxis": "x",
         "y": [
          75,
          75,
          90,
          90
         ],
         "yaxis": "y"
        },
        {
         "hoverinfo": "text",
         "marker": {
          "color": "rgb(61,153,112)"
         },
         "mode": "lines",
         "type": "scatter",
         "x": [
          0,
          -0.42912456996338155,
          -0.42912456996338155,
          0
         ],
         "xaxis": "x",
         "y": [
          115,
          115,
          125,
          125
         ],
         "yaxis": "y"
        },
        {
         "hoverinfo": "text",
         "marker": {
          "color": "rgb(61,153,112)"
         },
         "mode": "lines",
         "type": "scatter",
         "x": [
          0,
          -0.6973982985212696,
          -0.6973982985212696,
          -0.42912456996338155
         ],
         "xaxis": "x",
         "y": [
          105,
          105,
          120,
          120
         ],
         "yaxis": "y"
        },
        {
         "hoverinfo": "text",
         "marker": {
          "color": "rgb(61,153,112)"
         },
         "mode": "lines",
         "type": "scatter",
         "x": [
          0,
          -0.5561059525500257,
          -0.5561059525500257,
          0
         ],
         "xaxis": "x",
         "y": [
          135,
          135,
          145,
          145
         ],
         "yaxis": "y"
        },
        {
         "hoverinfo": "text",
         "marker": {
          "color": "rgb(61,153,112)"
         },
         "mode": "lines",
         "type": "scatter",
         "x": [
          0,
          -0.4592499289804087,
          -0.4592499289804087,
          0
         ],
         "xaxis": "x",
         "y": [
          155,
          155,
          165,
          165
         ],
         "yaxis": "y"
        },
        {
         "hoverinfo": "text",
         "marker": {
          "color": "rgb(61,153,112)"
         },
         "mode": "lines",
         "type": "scatter",
         "x": [
          0,
          -0.7423189946705694,
          -0.7423189946705694,
          0
         ],
         "xaxis": "x",
         "y": [
          175,
          175,
          185,
          185
         ],
         "yaxis": "y"
        },
        {
         "hoverinfo": "text",
         "marker": {
          "color": "rgb(61,153,112)"
         },
         "mode": "lines",
         "type": "scatter",
         "x": [
          -0.4592499289804087,
          -0.8995039499739769,
          -0.8995039499739769,
          -0.7423189946705694
         ],
         "xaxis": "x",
         "y": [
          160,
          160,
          180,
          180
         ],
         "yaxis": "y"
        },
        {
         "hoverinfo": "text",
         "marker": {
          "color": "rgb(61,153,112)"
         },
         "mode": "lines",
         "type": "scatter",
         "x": [
          -0.5561059525500257,
          -1.0569809379143345,
          -1.0569809379143345,
          -0.8995039499739769
         ],
         "xaxis": "x",
         "y": [
          140,
          140,
          170,
          170
         ],
         "yaxis": "y"
        },
        {
         "hoverinfo": "text",
         "marker": {
          "color": "rgb(61,153,112)"
         },
         "mode": "lines",
         "type": "scatter",
         "x": [
          -0.6973982985212696,
          -1.336931350412998,
          -1.336931350412998,
          -1.0569809379143345
         ],
         "xaxis": "x",
         "y": [
          112.5,
          112.5,
          155,
          155
         ],
         "yaxis": "y"
        },
        {
         "hoverinfo": "text",
         "marker": {
          "color": "rgb(61,153,112)"
         },
         "mode": "lines",
         "type": "scatter",
         "x": [
          -1.2951584315859224,
          -1.889066519155141,
          -1.889066519155141,
          -1.336931350412998
         ],
         "xaxis": "x",
         "y": [
          82.5,
          82.5,
          133.75,
          133.75
         ],
         "yaxis": "y"
        },
        {
         "hoverinfo": "text",
         "marker": {
          "color": "rgb(61,153,112)"
         },
         "mode": "lines",
         "type": "scatter",
         "x": [
          -0.9810134716815513,
          -2.1726962514589743,
          -2.1726962514589743,
          -1.889066519155141
         ],
         "xaxis": "x",
         "y": [
          46.25,
          46.25,
          108.125,
          108.125
         ],
         "yaxis": "y"
        },
        {
         "hoverinfo": "text",
         "marker": {
          "color": "rgb(61,153,112)"
         },
         "mode": "lines",
         "type": "scatter",
         "x": [
          -1.3356867871294575,
          -3.6003428615724853,
          -3.6003428615724853,
          -2.1726962514589743
         ],
         "xaxis": "x",
         "y": [
          10,
          10,
          77.1875,
          77.1875
         ],
         "yaxis": "y"
        },
        {
         "hoverinfo": "text",
         "marker": {
          "color": "rgb(255,65,54)"
         },
         "mode": "lines",
         "type": "scatter",
         "x": [
          0,
          -0.4377199098242829,
          -0.4377199098242829,
          0
         ],
         "xaxis": "x",
         "y": [
          215,
          215,
          225,
          225
         ],
         "yaxis": "y"
        },
        {
         "hoverinfo": "text",
         "marker": {
          "color": "rgb(255,65,54)"
         },
         "mode": "lines",
         "type": "scatter",
         "x": [
          0,
          -0.5258998873901156,
          -0.5258998873901156,
          -0.4377199098242829
         ],
         "xaxis": "x",
         "y": [
          205,
          205,
          220,
          220
         ],
         "yaxis": "y"
        },
        {
         "hoverinfo": "text",
         "marker": {
          "color": "rgb(255,65,54)"
         },
         "mode": "lines",
         "type": "scatter",
         "x": [
          0,
          -0.594218379651654,
          -0.594218379651654,
          -0.5258998873901156
         ],
         "xaxis": "x",
         "y": [
          195,
          195,
          212.5,
          212.5
         ],
         "yaxis": "y"
        },
        {
         "hoverinfo": "text",
         "marker": {
          "color": "rgb(255,65,54)"
         },
         "mode": "lines",
         "type": "scatter",
         "x": [
          0,
          -0.6100999016986952,
          -0.6100999016986952,
          0
         ],
         "xaxis": "x",
         "y": [
          235,
          235,
          245,
          245
         ],
         "yaxis": "y"
        },
        {
         "hoverinfo": "text",
         "marker": {
          "color": "rgb(255,65,54)"
         },
         "mode": "lines",
         "type": "scatter",
         "x": [
          0,
          -0.7143167404390158,
          -0.7143167404390158,
          0
         ],
         "xaxis": "x",
         "y": [
          265,
          265,
          275,
          275
         ],
         "yaxis": "y"
        },
        {
         "hoverinfo": "text",
         "marker": {
          "color": "rgb(255,65,54)"
         },
         "mode": "lines",
         "type": "scatter",
         "x": [
          0,
          -0.741917495158671,
          -0.741917495158671,
          -0.7143167404390158
         ],
         "xaxis": "x",
         "y": [
          255,
          255,
          270,
          270
         ],
         "yaxis": "y"
        },
        {
         "hoverinfo": "text",
         "marker": {
          "color": "rgb(255,65,54)"
         },
         "mode": "lines",
         "type": "scatter",
         "x": [
          -0.6100999016986952,
          -1.0345027957442479,
          -1.0345027957442479,
          -0.741917495158671
         ],
         "xaxis": "x",
         "y": [
          240,
          240,
          262.5,
          262.5
         ],
         "yaxis": "y"
        },
        {
         "hoverinfo": "text",
         "marker": {
          "color": "rgb(255,65,54)"
         },
         "mode": "lines",
         "type": "scatter",
         "x": [
          -0.594218379651654,
          -1.3176949795935509,
          -1.3176949795935509,
          -1.0345027957442479
         ],
         "xaxis": "x",
         "y": [
          203.75,
          203.75,
          251.25,
          251.25
         ],
         "yaxis": "y"
        },
        {
         "hoverinfo": "text",
         "marker": {
          "color": "rgb(255,65,54)"
         },
         "mode": "lines",
         "type": "scatter",
         "x": [
          0,
          -0.5860527526163789,
          -0.5860527526163789,
          0
         ],
         "xaxis": "x",
         "y": [
          295,
          295,
          305,
          305
         ],
         "yaxis": "y"
        },
        {
         "hoverinfo": "text",
         "marker": {
          "color": "rgb(255,65,54)"
         },
         "mode": "lines",
         "type": "scatter",
         "x": [
          0,
          -0.9198014540331166,
          -0.9198014540331166,
          -0.5860527526163789
         ],
         "xaxis": "x",
         "y": [
          285,
          285,
          300,
          300
         ],
         "yaxis": "y"
        },
        {
         "hoverinfo": "text",
         "marker": {
          "color": "rgb(255,65,54)"
         },
         "mode": "lines",
         "type": "scatter",
         "x": [
          0,
          -0.8122948733688632,
          -0.8122948733688632,
          0
         ],
         "xaxis": "x",
         "y": [
          325,
          325,
          335,
          335
         ],
         "yaxis": "y"
        },
        {
         "hoverinfo": "text",
         "marker": {
          "color": "rgb(255,65,54)"
         },
         "mode": "lines",
         "type": "scatter",
         "x": [
          0,
          -1.2353239060658205,
          -1.2353239060658205,
          -0.8122948733688632
         ],
         "xaxis": "x",
         "y": [
          315,
          315,
          330,
          330
         ],
         "yaxis": "y"
        },
        {
         "hoverinfo": "text",
         "marker": {
          "color": "rgb(255,65,54)"
         },
         "mode": "lines",
         "type": "scatter",
         "x": [
          -0.9198014540331166,
          -1.7410786154483753,
          -1.7410786154483753,
          -1.2353239060658205
         ],
         "xaxis": "x",
         "y": [
          292.5,
          292.5,
          322.5,
          322.5
         ],
         "yaxis": "y"
        },
        {
         "hoverinfo": "text",
         "marker": {
          "color": "rgb(255,65,54)"
         },
         "mode": "lines",
         "type": "scatter",
         "x": [
          -1.3176949795935509,
          -2.0365787023352193,
          -2.0365787023352193,
          -1.7410786154483753
         ],
         "xaxis": "x",
         "y": [
          227.5,
          227.5,
          307.5,
          307.5
         ],
         "yaxis": "y"
        },
        {
         "hoverinfo": "text",
         "marker": {
          "color": "rgb(255,65,54)"
         },
         "mode": "lines",
         "type": "scatter",
         "x": [
          0,
          -0.38488686982570547,
          -0.38488686982570547,
          0
         ],
         "xaxis": "x",
         "y": [
          345,
          345,
          355,
          355
         ],
         "yaxis": "y"
        },
        {
         "hoverinfo": "text",
         "marker": {
          "color": "rgb(255,65,54)"
         },
         "mode": "lines",
         "type": "scatter",
         "x": [
          0,
          -0.592506120021375,
          -0.592506120021375,
          0
         ],
         "xaxis": "x",
         "y": [
          385,
          385,
          395,
          395
         ],
         "yaxis": "y"
        },
        {
         "hoverinfo": "text",
         "marker": {
          "color": "rgb(255,65,54)"
         },
         "mode": "lines",
         "type": "scatter",
         "x": [
          0,
          -0.6727486529421689,
          -0.6727486529421689,
          -0.592506120021375
         ],
         "xaxis": "x",
         "y": [
          375,
          375,
          390,
          390
         ],
         "yaxis": "y"
        },
        {
         "hoverinfo": "text",
         "marker": {
          "color": "rgb(255,65,54)"
         },
         "mode": "lines",
         "type": "scatter",
         "x": [
          0,
          -0.7719199663339232,
          -0.7719199663339232,
          -0.6727486529421689
         ],
         "xaxis": "x",
         "y": [
          365,
          365,
          382.5,
          382.5
         ],
         "yaxis": "y"
        },
        {
         "hoverinfo": "text",
         "marker": {
          "color": "rgb(255,65,54)"
         },
         "mode": "lines",
         "type": "scatter",
         "x": [
          -0.38488686982570547,
          -1.0097515994277007,
          -1.0097515994277007,
          -0.7719199663339232
         ],
         "xaxis": "x",
         "y": [
          350,
          350,
          373.75,
          373.75
         ],
         "yaxis": "y"
        },
        {
         "hoverinfo": "text",
         "marker": {
          "color": "rgb(255,65,54)"
         },
         "mode": "lines",
         "type": "scatter",
         "x": [
          0,
          -0.0680280615573004,
          -0.0680280615573004,
          0
         ],
         "xaxis": "x",
         "y": [
          405,
          405,
          415,
          415
         ],
         "yaxis": "y"
        },
        {
         "hoverinfo": "text",
         "marker": {
          "color": "rgb(255,65,54)"
         },
         "mode": "lines",
         "type": "scatter",
         "x": [
          0,
          -0.4161512624050761,
          -0.4161512624050761,
          0
         ],
         "xaxis": "x",
         "y": [
          425,
          425,
          435,
          435
         ],
         "yaxis": "y"
        },
        {
         "hoverinfo": "text",
         "marker": {
          "color": "rgb(255,65,54)"
         },
         "mode": "lines",
         "type": "scatter",
         "x": [
          -0.0680280615573004,
          -1.2915427021461823,
          -1.2915427021461823,
          -0.4161512624050761
         ],
         "xaxis": "x",
         "y": [
          410,
          410,
          430,
          430
         ],
         "yaxis": "y"
        },
        {
         "hoverinfo": "text",
         "marker": {
          "color": "rgb(255,65,54)"
         },
         "mode": "lines",
         "type": "scatter",
         "x": [
          -1.0097515994277007,
          -1.4124303675609742,
          -1.4124303675609742,
          -1.2915427021461823
         ],
         "xaxis": "x",
         "y": [
          361.875,
          361.875,
          420,
          420
         ],
         "yaxis": "y"
        },
        {
         "hoverinfo": "text",
         "marker": {
          "color": "rgb(255,65,54)"
         },
         "mode": "lines",
         "type": "scatter",
         "x": [
          0,
          -0.41742246878827205,
          -0.41742246878827205,
          0
         ],
         "xaxis": "x",
         "y": [
          445,
          445,
          455,
          455
         ],
         "yaxis": "y"
        },
        {
         "hoverinfo": "text",
         "marker": {
          "color": "rgb(255,65,54)"
         },
         "mode": "lines",
         "type": "scatter",
         "x": [
          0,
          -0.335753756138199,
          -0.335753756138199,
          0
         ],
         "xaxis": "x",
         "y": [
          485,
          485,
          495,
          495
         ],
         "yaxis": "y"
        },
        {
         "hoverinfo": "text",
         "marker": {
          "color": "rgb(255,65,54)"
         },
         "mode": "lines",
         "type": "scatter",
         "x": [
          0,
          -0.627573595157154,
          -0.627573595157154,
          -0.335753756138199
         ],
         "xaxis": "x",
         "y": [
          475,
          475,
          490,
          490
         ],
         "yaxis": "y"
        },
        {
         "hoverinfo": "text",
         "marker": {
          "color": "rgb(255,65,54)"
         },
         "mode": "lines",
         "type": "scatter",
         "x": [
          0,
          -0.6840022101818798,
          -0.6840022101818798,
          -0.627573595157154
         ],
         "xaxis": "x",
         "y": [
          465,
          465,
          482.5,
          482.5
         ],
         "yaxis": "y"
        },
        {
         "hoverinfo": "text",
         "marker": {
          "color": "rgb(255,65,54)"
         },
         "mode": "lines",
         "type": "scatter",
         "x": [
          -0.41742246878827205,
          -0.8252845596596591,
          -0.8252845596596591,
          -0.6840022101818798
         ],
         "xaxis": "x",
         "y": [
          450,
          450,
          473.75,
          473.75
         ],
         "yaxis": "y"
        },
        {
         "hoverinfo": "text",
         "marker": {
          "color": "rgb(255,65,54)"
         },
         "mode": "lines",
         "type": "scatter",
         "x": [
          0,
          -0.4650912389870943,
          -0.4650912389870943,
          0
         ],
         "xaxis": "x",
         "y": [
          515,
          515,
          525,
          525
         ],
         "yaxis": "y"
        },
        {
         "hoverinfo": "text",
         "marker": {
          "color": "rgb(255,65,54)"
         },
         "mode": "lines",
         "type": "scatter",
         "x": [
          0,
          -0.5100204502175937,
          -0.5100204502175937,
          -0.4650912389870943
         ],
         "xaxis": "x",
         "y": [
          505,
          505,
          520,
          520
         ],
         "yaxis": "y"
        },
        {
         "hoverinfo": "text",
         "marker": {
          "color": "rgb(255,65,54)"
         },
         "mode": "lines",
         "type": "scatter",
         "x": [
          0,
          -0.48390181067226073,
          -0.48390181067226073,
          0
         ],
         "xaxis": "x",
         "y": [
          545,
          545,
          555,
          555
         ],
         "yaxis": "y"
        },
        {
         "hoverinfo": "text",
         "marker": {
          "color": "rgb(255,65,54)"
         },
         "mode": "lines",
         "type": "scatter",
         "x": [
          0,
          -0.676506945240579,
          -0.676506945240579,
          -0.48390181067226073
         ],
         "xaxis": "x",
         "y": [
          535,
          535,
          550,
          550
         ],
         "yaxis": "y"
        },
        {
         "hoverinfo": "text",
         "marker": {
          "color": "rgb(255,65,54)"
         },
         "mode": "lines",
         "type": "scatter",
         "x": [
          -0.5100204502175937,
          -0.8912080367448446,
          -0.8912080367448446,
          -0.676506945240579
         ],
         "xaxis": "x",
         "y": [
          512.5,
          512.5,
          542.5,
          542.5
         ],
         "yaxis": "y"
        },
        {
         "hoverinfo": "text",
         "marker": {
          "color": "rgb(255,65,54)"
         },
         "mode": "lines",
         "type": "scatter",
         "x": [
          -0.8252845596596591,
          -1.6854949570662754,
          -1.6854949570662754,
          -0.8912080367448446
         ],
         "xaxis": "x",
         "y": [
          461.875,
          461.875,
          527.5,
          527.5
         ],
         "yaxis": "y"
        },
        {
         "hoverinfo": "text",
         "marker": {
          "color": "rgb(255,65,54)"
         },
         "mode": "lines",
         "type": "scatter",
         "x": [
          -1.4124303675609742,
          -3.4417071389664433,
          -3.4417071389664433,
          -1.6854949570662754
         ],
         "xaxis": "x",
         "y": [
          390.9375,
          390.9375,
          494.6875,
          494.6875
         ],
         "yaxis": "y"
        },
        {
         "hoverinfo": "text",
         "marker": {
          "color": "rgb(255,65,54)"
         },
         "mode": "lines",
         "type": "scatter",
         "x": [
          -2.0365787023352193,
          -4.414451408517917,
          -4.414451408517917,
          -3.4417071389664433
         ],
         "xaxis": "x",
         "y": [
          267.5,
          267.5,
          442.8125,
          442.8125
         ],
         "yaxis": "y"
        },
        {
         "hoverinfo": "text",
         "marker": {
          "color": "rgb(0,116,217)"
         },
         "mode": "lines",
         "type": "scatter",
         "x": [
          -3.6003428615724853,
          -16.282344979184508,
          -16.282344979184508,
          -4.414451408517917
         ],
         "xaxis": "x",
         "y": [
          43.59375,
          43.59375,
          355.15625,
          355.15625
         ],
         "yaxis": "y"
        }
       ],
       "layout": {
        "autosize": false,
        "height": null,
        "hovermode": "closest",
        "showlegend": false,
        "template": {
         "data": {
          "bar": [
           {
            "error_x": {
             "color": "#2a3f5f"
            },
            "error_y": {
             "color": "#2a3f5f"
            },
            "marker": {
             "line": {
              "color": "#E5ECF6",
              "width": 0.5
             },
             "pattern": {
              "fillmode": "overlay",
              "size": 10,
              "solidity": 0.2
             }
            },
            "type": "bar"
           }
          ],
          "barpolar": [
           {
            "marker": {
             "line": {
              "color": "#E5ECF6",
              "width": 0.5
             },
             "pattern": {
              "fillmode": "overlay",
              "size": 10,
              "solidity": 0.2
             }
            },
            "type": "barpolar"
           }
          ],
          "carpet": [
           {
            "aaxis": {
             "endlinecolor": "#2a3f5f",
             "gridcolor": "white",
             "linecolor": "white",
             "minorgridcolor": "white",
             "startlinecolor": "#2a3f5f"
            },
            "baxis": {
             "endlinecolor": "#2a3f5f",
             "gridcolor": "white",
             "linecolor": "white",
             "minorgridcolor": "white",
             "startlinecolor": "#2a3f5f"
            },
            "type": "carpet"
           }
          ],
          "choropleth": [
           {
            "colorbar": {
             "outlinewidth": 0,
             "ticks": ""
            },
            "type": "choropleth"
           }
          ],
          "contour": [
           {
            "colorbar": {
             "outlinewidth": 0,
             "ticks": ""
            },
            "colorscale": [
             [
              0,
              "#0d0887"
             ],
             [
              0.1111111111111111,
              "#46039f"
             ],
             [
              0.2222222222222222,
              "#7201a8"
             ],
             [
              0.3333333333333333,
              "#9c179e"
             ],
             [
              0.4444444444444444,
              "#bd3786"
             ],
             [
              0.5555555555555556,
              "#d8576b"
             ],
             [
              0.6666666666666666,
              "#ed7953"
             ],
             [
              0.7777777777777778,
              "#fb9f3a"
             ],
             [
              0.8888888888888888,
              "#fdca26"
             ],
             [
              1,
              "#f0f921"
             ]
            ],
            "type": "contour"
           }
          ],
          "contourcarpet": [
           {
            "colorbar": {
             "outlinewidth": 0,
             "ticks": ""
            },
            "type": "contourcarpet"
           }
          ],
          "heatmap": [
           {
            "colorbar": {
             "outlinewidth": 0,
             "ticks": ""
            },
            "colorscale": [
             [
              0,
              "#0d0887"
             ],
             [
              0.1111111111111111,
              "#46039f"
             ],
             [
              0.2222222222222222,
              "#7201a8"
             ],
             [
              0.3333333333333333,
              "#9c179e"
             ],
             [
              0.4444444444444444,
              "#bd3786"
             ],
             [
              0.5555555555555556,
              "#d8576b"
             ],
             [
              0.6666666666666666,
              "#ed7953"
             ],
             [
              0.7777777777777778,
              "#fb9f3a"
             ],
             [
              0.8888888888888888,
              "#fdca26"
             ],
             [
              1,
              "#f0f921"
             ]
            ],
            "type": "heatmap"
           }
          ],
          "heatmapgl": [
           {
            "colorbar": {
             "outlinewidth": 0,
             "ticks": ""
            },
            "colorscale": [
             [
              0,
              "#0d0887"
             ],
             [
              0.1111111111111111,
              "#46039f"
             ],
             [
              0.2222222222222222,
              "#7201a8"
             ],
             [
              0.3333333333333333,
              "#9c179e"
             ],
             [
              0.4444444444444444,
              "#bd3786"
             ],
             [
              0.5555555555555556,
              "#d8576b"
             ],
             [
              0.6666666666666666,
              "#ed7953"
             ],
             [
              0.7777777777777778,
              "#fb9f3a"
             ],
             [
              0.8888888888888888,
              "#fdca26"
             ],
             [
              1,
              "#f0f921"
             ]
            ],
            "type": "heatmapgl"
           }
          ],
          "histogram": [
           {
            "marker": {
             "pattern": {
              "fillmode": "overlay",
              "size": 10,
              "solidity": 0.2
             }
            },
            "type": "histogram"
           }
          ],
          "histogram2d": [
           {
            "colorbar": {
             "outlinewidth": 0,
             "ticks": ""
            },
            "colorscale": [
             [
              0,
              "#0d0887"
             ],
             [
              0.1111111111111111,
              "#46039f"
             ],
             [
              0.2222222222222222,
              "#7201a8"
             ],
             [
              0.3333333333333333,
              "#9c179e"
             ],
             [
              0.4444444444444444,
              "#bd3786"
             ],
             [
              0.5555555555555556,
              "#d8576b"
             ],
             [
              0.6666666666666666,
              "#ed7953"
             ],
             [
              0.7777777777777778,
              "#fb9f3a"
             ],
             [
              0.8888888888888888,
              "#fdca26"
             ],
             [
              1,
              "#f0f921"
             ]
            ],
            "type": "histogram2d"
           }
          ],
          "histogram2dcontour": [
           {
            "colorbar": {
             "outlinewidth": 0,
             "ticks": ""
            },
            "colorscale": [
             [
              0,
              "#0d0887"
             ],
             [
              0.1111111111111111,
              "#46039f"
             ],
             [
              0.2222222222222222,
              "#7201a8"
             ],
             [
              0.3333333333333333,
              "#9c179e"
             ],
             [
              0.4444444444444444,
              "#bd3786"
             ],
             [
              0.5555555555555556,
              "#d8576b"
             ],
             [
              0.6666666666666666,
              "#ed7953"
             ],
             [
              0.7777777777777778,
              "#fb9f3a"
             ],
             [
              0.8888888888888888,
              "#fdca26"
             ],
             [
              1,
              "#f0f921"
             ]
            ],
            "type": "histogram2dcontour"
           }
          ],
          "mesh3d": [
           {
            "colorbar": {
             "outlinewidth": 0,
             "ticks": ""
            },
            "type": "mesh3d"
           }
          ],
          "parcoords": [
           {
            "line": {
             "colorbar": {
              "outlinewidth": 0,
              "ticks": ""
             }
            },
            "type": "parcoords"
           }
          ],
          "pie": [
           {
            "automargin": true,
            "type": "pie"
           }
          ],
          "scatter": [
           {
            "marker": {
             "colorbar": {
              "outlinewidth": 0,
              "ticks": ""
             }
            },
            "type": "scatter"
           }
          ],
          "scatter3d": [
           {
            "line": {
             "colorbar": {
              "outlinewidth": 0,
              "ticks": ""
             }
            },
            "marker": {
             "colorbar": {
              "outlinewidth": 0,
              "ticks": ""
             }
            },
            "type": "scatter3d"
           }
          ],
          "scattercarpet": [
           {
            "marker": {
             "colorbar": {
              "outlinewidth": 0,
              "ticks": ""
             }
            },
            "type": "scattercarpet"
           }
          ],
          "scattergeo": [
           {
            "marker": {
             "colorbar": {
              "outlinewidth": 0,
              "ticks": ""
             }
            },
            "type": "scattergeo"
           }
          ],
          "scattergl": [
           {
            "marker": {
             "colorbar": {
              "outlinewidth": 0,
              "ticks": ""
             }
            },
            "type": "scattergl"
           }
          ],
          "scattermapbox": [
           {
            "marker": {
             "colorbar": {
              "outlinewidth": 0,
              "ticks": ""
             }
            },
            "type": "scattermapbox"
           }
          ],
          "scatterpolar": [
           {
            "marker": {
             "colorbar": {
              "outlinewidth": 0,
              "ticks": ""
             }
            },
            "type": "scatterpolar"
           }
          ],
          "scatterpolargl": [
           {
            "marker": {
             "colorbar": {
              "outlinewidth": 0,
              "ticks": ""
             }
            },
            "type": "scatterpolargl"
           }
          ],
          "scatterternary": [
           {
            "marker": {
             "colorbar": {
              "outlinewidth": 0,
              "ticks": ""
             }
            },
            "type": "scatterternary"
           }
          ],
          "surface": [
           {
            "colorbar": {
             "outlinewidth": 0,
             "ticks": ""
            },
            "colorscale": [
             [
              0,
              "#0d0887"
             ],
             [
              0.1111111111111111,
              "#46039f"
             ],
             [
              0.2222222222222222,
              "#7201a8"
             ],
             [
              0.3333333333333333,
              "#9c179e"
             ],
             [
              0.4444444444444444,
              "#bd3786"
             ],
             [
              0.5555555555555556,
              "#d8576b"
             ],
             [
              0.6666666666666666,
              "#ed7953"
             ],
             [
              0.7777777777777778,
              "#fb9f3a"
             ],
             [
              0.8888888888888888,
              "#fdca26"
             ],
             [
              1,
              "#f0f921"
             ]
            ],
            "type": "surface"
           }
          ],
          "table": [
           {
            "cells": {
             "fill": {
              "color": "#EBF0F8"
             },
             "line": {
              "color": "white"
             }
            },
            "header": {
             "fill": {
              "color": "#C8D4E3"
             },
             "line": {
              "color": "white"
             }
            },
            "type": "table"
           }
          ]
         },
         "layout": {
          "annotationdefaults": {
           "arrowcolor": "#2a3f5f",
           "arrowhead": 0,
           "arrowwidth": 1
          },
          "autotypenumbers": "strict",
          "coloraxis": {
           "colorbar": {
            "outlinewidth": 0,
            "ticks": ""
           }
          },
          "colorscale": {
           "diverging": [
            [
             0,
             "#8e0152"
            ],
            [
             0.1,
             "#c51b7d"
            ],
            [
             0.2,
             "#de77ae"
            ],
            [
             0.3,
             "#f1b6da"
            ],
            [
             0.4,
             "#fde0ef"
            ],
            [
             0.5,
             "#f7f7f7"
            ],
            [
             0.6,
             "#e6f5d0"
            ],
            [
             0.7,
             "#b8e186"
            ],
            [
             0.8,
             "#7fbc41"
            ],
            [
             0.9,
             "#4d9221"
            ],
            [
             1,
             "#276419"
            ]
           ],
           "sequential": [
            [
             0,
             "#0d0887"
            ],
            [
             0.1111111111111111,
             "#46039f"
            ],
            [
             0.2222222222222222,
             "#7201a8"
            ],
            [
             0.3333333333333333,
             "#9c179e"
            ],
            [
             0.4444444444444444,
             "#bd3786"
            ],
            [
             0.5555555555555556,
             "#d8576b"
            ],
            [
             0.6666666666666666,
             "#ed7953"
            ],
            [
             0.7777777777777778,
             "#fb9f3a"
            ],
            [
             0.8888888888888888,
             "#fdca26"
            ],
            [
             1,
             "#f0f921"
            ]
           ],
           "sequentialminus": [
            [
             0,
             "#0d0887"
            ],
            [
             0.1111111111111111,
             "#46039f"
            ],
            [
             0.2222222222222222,
             "#7201a8"
            ],
            [
             0.3333333333333333,
             "#9c179e"
            ],
            [
             0.4444444444444444,
             "#bd3786"
            ],
            [
             0.5555555555555556,
             "#d8576b"
            ],
            [
             0.6666666666666666,
             "#ed7953"
            ],
            [
             0.7777777777777778,
             "#fb9f3a"
            ],
            [
             0.8888888888888888,
             "#fdca26"
            ],
            [
             1,
             "#f0f921"
            ]
           ]
          },
          "colorway": [
           "#636efa",
           "#EF553B",
           "#00cc96",
           "#ab63fa",
           "#FFA15A",
           "#19d3f3",
           "#FF6692",
           "#B6E880",
           "#FF97FF",
           "#FECB52"
          ],
          "font": {
           "color": "#2a3f5f"
          },
          "geo": {
           "bgcolor": "white",
           "lakecolor": "white",
           "landcolor": "#E5ECF6",
           "showlakes": true,
           "showland": true,
           "subunitcolor": "white"
          },
          "hoverlabel": {
           "align": "left"
          },
          "hovermode": "closest",
          "mapbox": {
           "style": "light"
          },
          "paper_bgcolor": "white",
          "plot_bgcolor": "#E5ECF6",
          "polar": {
           "angularaxis": {
            "gridcolor": "white",
            "linecolor": "white",
            "ticks": ""
           },
           "bgcolor": "#E5ECF6",
           "radialaxis": {
            "gridcolor": "white",
            "linecolor": "white",
            "ticks": ""
           }
          },
          "scene": {
           "xaxis": {
            "backgroundcolor": "#E5ECF6",
            "gridcolor": "white",
            "gridwidth": 2,
            "linecolor": "white",
            "showbackground": true,
            "ticks": "",
            "zerolinecolor": "white"
           },
           "yaxis": {
            "backgroundcolor": "#E5ECF6",
            "gridcolor": "white",
            "gridwidth": 2,
            "linecolor": "white",
            "showbackground": true,
            "ticks": "",
            "zerolinecolor": "white"
           },
           "zaxis": {
            "backgroundcolor": "#E5ECF6",
            "gridcolor": "white",
            "gridwidth": 2,
            "linecolor": "white",
            "showbackground": true,
            "ticks": "",
            "zerolinecolor": "white"
           }
          },
          "shapedefaults": {
           "line": {
            "color": "#2a3f5f"
           }
          },
          "ternary": {
           "aaxis": {
            "gridcolor": "white",
            "linecolor": "white",
            "ticks": ""
           },
           "baxis": {
            "gridcolor": "white",
            "linecolor": "white",
            "ticks": ""
           },
           "bgcolor": "#E5ECF6",
           "caxis": {
            "gridcolor": "white",
            "linecolor": "white",
            "ticks": ""
           }
          },
          "title": {
           "x": 0.05
          },
          "xaxis": {
           "automargin": true,
           "gridcolor": "white",
           "linecolor": "white",
           "ticks": "",
           "title": {
            "standoff": 15
           },
           "zerolinecolor": "white",
           "zerolinewidth": 2
          },
          "yaxis": {
           "automargin": true,
           "gridcolor": "white",
           "linecolor": "white",
           "ticks": "",
           "title": {
            "standoff": 15
           },
           "zerolinecolor": "white",
           "zerolinewidth": 2
          }
         }
        },
        "width": null,
        "xaxis": {
         "mirror": "allticks",
         "rangemode": "tozero",
         "showgrid": false,
         "showline": true,
         "showticklabels": true,
         "ticks": "outside",
         "type": "linear",
         "zeroline": false
        },
        "yaxis": {
         "mirror": "allticks",
         "rangemode": "tozero",
         "showgrid": false,
         "showline": true,
         "showticklabels": true,
         "tickmode": "array",
         "ticks": "outside",
         "ticktext": [
          "千顷堂书目",
          "三国史记",
          "三国志",
          "十六国春秋",
          "资治通鉴",
          "元代奏议集录",
          "江南野史",
          "三国演义",
          "刑案汇览三编",
          "东华续录选辑",
          "清史稿",
          "元史",
          "明史",
          "云麓漫钞",
          "明清徽商资料选编",
          "明实录孝宗实录",
          "明实录神宗实录",
          "宋书",
          "东南纪事",
          "四喜记",
          "昙花记",
          "运甓记",
          "香囊记",
          "紫钗记",
          "紫箫记",
          "黄氏宝卷",
          "玉合记",
          "西厢记",
          "蓝公案",
          "包公案",
          "西湖二集",
          "唐朝开国演义",
          "梁皇宝卷",
          "鱼篮宝卷",
          "清代宫廷艳史",
          "明代宫闱史",
          "红楼复梦",
          "小五义",
          "红楼梦",
          "江湖奇侠传",
          "金瓶梅词话万历本",
          "金瓶梅",
          "西游记补",
          "西游记",
          "定情人",
          "梦中缘",
          "清朝秘史",
          "媚史",
          "隋唐演义",
          "喻世明言",
          "痛史",
          "三侠五义",
          "梼杌闲评",
          "水浒传",
          "水浒后传",
          "七剑十三侠"
         ],
         "tickvals": [
          5,
          15,
          25,
          35,
          45,
          55,
          65,
          75,
          85,
          95,
          105,
          115,
          125,
          135,
          145,
          155,
          165,
          175,
          185,
          195,
          205,
          215,
          225,
          235,
          245,
          255,
          265,
          275,
          285,
          295,
          305,
          315,
          325,
          335,
          345,
          355,
          365,
          375,
          385,
          395,
          405,
          415,
          425,
          435,
          445,
          455,
          465,
          475,
          485,
          495,
          505,
          515,
          525,
          535,
          545,
          555
         ],
         "type": "linear",
         "zeroline": false
        }
       }
      },
      "text/html": [
       "<div>                            <div id=\"32826695-64ef-4253-84ba-886564bf2634\" class=\"plotly-graph-div\" style=\"height:infpx; width:infpx;\"></div>            <script type=\"text/javascript\">                require([\"plotly\"], function(Plotly) {                    window.PLOTLYENV=window.PLOTLYENV || {};                                    if (document.getElementById(\"32826695-64ef-4253-84ba-886564bf2634\")) {                    Plotly.newPlot(                        \"32826695-64ef-4253-84ba-886564bf2634\",                        [{\"hoverinfo\":\"text\",\"marker\":{\"color\":\"rgb(61,153,112)\"},\"mode\":\"lines\",\"x\":[-0.0,-1.3356867871294575,-1.3356867871294575,-0.0],\"xaxis\":\"x\",\"y\":[5.0,5.0,15.0,15.0],\"yaxis\":\"y\",\"type\":\"scatter\"},{\"hoverinfo\":\"text\",\"marker\":{\"color\":\"rgb(61,153,112)\"},\"mode\":\"lines\",\"x\":[-0.0,-0.3363552928259562,-0.3363552928259562,-0.0],\"xaxis\":\"x\",\"y\":[35.0,35.0,45.0,45.0],\"yaxis\":\"y\",\"type\":\"scatter\"},{\"hoverinfo\":\"text\",\"marker\":{\"color\":\"rgb(61,153,112)\"},\"mode\":\"lines\",\"x\":[-0.0,-0.441218020942909,-0.441218020942909,-0.3363552928259562],\"xaxis\":\"x\",\"y\":[25.0,25.0,40.0,40.0],\"yaxis\":\"y\",\"type\":\"scatter\"},{\"hoverinfo\":\"text\",\"marker\":{\"color\":\"rgb(61,153,112)\"},\"mode\":\"lines\",\"x\":[-0.0,-0.5954783742564366,-0.5954783742564366,-0.0],\"xaxis\":\"x\",\"y\":[55.0,55.0,65.0,65.0],\"yaxis\":\"y\",\"type\":\"scatter\"},{\"hoverinfo\":\"text\",\"marker\":{\"color\":\"rgb(61,153,112)\"},\"mode\":\"lines\",\"x\":[-0.441218020942909,-0.9810134716815513,-0.9810134716815513,-0.5954783742564366],\"xaxis\":\"x\",\"y\":[32.5,32.5,60.0,60.0],\"yaxis\":\"y\",\"type\":\"scatter\"},{\"hoverinfo\":\"text\",\"marker\":{\"color\":\"rgb(61,153,112)\"},\"mode\":\"lines\",\"x\":[-0.0,-0.9317007350429,-0.9317007350429,-0.0],\"xaxis\":\"x\",\"y\":[85.0,85.0,95.0,95.0],\"yaxis\":\"y\",\"type\":\"scatter\"},{\"hoverinfo\":\"text\",\"marker\":{\"color\":\"rgb(61,153,112)\"},\"mode\":\"lines\",\"x\":[-0.0,-1.2951584315859224,-1.2951584315859224,-0.9317007350429],\"xaxis\":\"x\",\"y\":[75.0,75.0,90.0,90.0],\"yaxis\":\"y\",\"type\":\"scatter\"},{\"hoverinfo\":\"text\",\"marker\":{\"color\":\"rgb(61,153,112)\"},\"mode\":\"lines\",\"x\":[-0.0,-0.42912456996338155,-0.42912456996338155,-0.0],\"xaxis\":\"x\",\"y\":[115.0,115.0,125.0,125.0],\"yaxis\":\"y\",\"type\":\"scatter\"},{\"hoverinfo\":\"text\",\"marker\":{\"color\":\"rgb(61,153,112)\"},\"mode\":\"lines\",\"x\":[-0.0,-0.6973982985212696,-0.6973982985212696,-0.42912456996338155],\"xaxis\":\"x\",\"y\":[105.0,105.0,120.0,120.0],\"yaxis\":\"y\",\"type\":\"scatter\"},{\"hoverinfo\":\"text\",\"marker\":{\"color\":\"rgb(61,153,112)\"},\"mode\":\"lines\",\"x\":[-0.0,-0.5561059525500257,-0.5561059525500257,-0.0],\"xaxis\":\"x\",\"y\":[135.0,135.0,145.0,145.0],\"yaxis\":\"y\",\"type\":\"scatter\"},{\"hoverinfo\":\"text\",\"marker\":{\"color\":\"rgb(61,153,112)\"},\"mode\":\"lines\",\"x\":[-0.0,-0.4592499289804087,-0.4592499289804087,-0.0],\"xaxis\":\"x\",\"y\":[155.0,155.0,165.0,165.0],\"yaxis\":\"y\",\"type\":\"scatter\"},{\"hoverinfo\":\"text\",\"marker\":{\"color\":\"rgb(61,153,112)\"},\"mode\":\"lines\",\"x\":[-0.0,-0.7423189946705694,-0.7423189946705694,-0.0],\"xaxis\":\"x\",\"y\":[175.0,175.0,185.0,185.0],\"yaxis\":\"y\",\"type\":\"scatter\"},{\"hoverinfo\":\"text\",\"marker\":{\"color\":\"rgb(61,153,112)\"},\"mode\":\"lines\",\"x\":[-0.4592499289804087,-0.8995039499739769,-0.8995039499739769,-0.7423189946705694],\"xaxis\":\"x\",\"y\":[160.0,160.0,180.0,180.0],\"yaxis\":\"y\",\"type\":\"scatter\"},{\"hoverinfo\":\"text\",\"marker\":{\"color\":\"rgb(61,153,112)\"},\"mode\":\"lines\",\"x\":[-0.5561059525500257,-1.0569809379143345,-1.0569809379143345,-0.8995039499739769],\"xaxis\":\"x\",\"y\":[140.0,140.0,170.0,170.0],\"yaxis\":\"y\",\"type\":\"scatter\"},{\"hoverinfo\":\"text\",\"marker\":{\"color\":\"rgb(61,153,112)\"},\"mode\":\"lines\",\"x\":[-0.6973982985212696,-1.336931350412998,-1.336931350412998,-1.0569809379143345],\"xaxis\":\"x\",\"y\":[112.5,112.5,155.0,155.0],\"yaxis\":\"y\",\"type\":\"scatter\"},{\"hoverinfo\":\"text\",\"marker\":{\"color\":\"rgb(61,153,112)\"},\"mode\":\"lines\",\"x\":[-1.2951584315859224,-1.889066519155141,-1.889066519155141,-1.336931350412998],\"xaxis\":\"x\",\"y\":[82.5,82.5,133.75,133.75],\"yaxis\":\"y\",\"type\":\"scatter\"},{\"hoverinfo\":\"text\",\"marker\":{\"color\":\"rgb(61,153,112)\"},\"mode\":\"lines\",\"x\":[-0.9810134716815513,-2.1726962514589743,-2.1726962514589743,-1.889066519155141],\"xaxis\":\"x\",\"y\":[46.25,46.25,108.125,108.125],\"yaxis\":\"y\",\"type\":\"scatter\"},{\"hoverinfo\":\"text\",\"marker\":{\"color\":\"rgb(61,153,112)\"},\"mode\":\"lines\",\"x\":[-1.3356867871294575,-3.6003428615724853,-3.6003428615724853,-2.1726962514589743],\"xaxis\":\"x\",\"y\":[10.0,10.0,77.1875,77.1875],\"yaxis\":\"y\",\"type\":\"scatter\"},{\"hoverinfo\":\"text\",\"marker\":{\"color\":\"rgb(255,65,54)\"},\"mode\":\"lines\",\"x\":[-0.0,-0.4377199098242829,-0.4377199098242829,-0.0],\"xaxis\":\"x\",\"y\":[215.0,215.0,225.0,225.0],\"yaxis\":\"y\",\"type\":\"scatter\"},{\"hoverinfo\":\"text\",\"marker\":{\"color\":\"rgb(255,65,54)\"},\"mode\":\"lines\",\"x\":[-0.0,-0.5258998873901156,-0.5258998873901156,-0.4377199098242829],\"xaxis\":\"x\",\"y\":[205.0,205.0,220.0,220.0],\"yaxis\":\"y\",\"type\":\"scatter\"},{\"hoverinfo\":\"text\",\"marker\":{\"color\":\"rgb(255,65,54)\"},\"mode\":\"lines\",\"x\":[-0.0,-0.594218379651654,-0.594218379651654,-0.5258998873901156],\"xaxis\":\"x\",\"y\":[195.0,195.0,212.5,212.5],\"yaxis\":\"y\",\"type\":\"scatter\"},{\"hoverinfo\":\"text\",\"marker\":{\"color\":\"rgb(255,65,54)\"},\"mode\":\"lines\",\"x\":[-0.0,-0.6100999016986952,-0.6100999016986952,-0.0],\"xaxis\":\"x\",\"y\":[235.0,235.0,245.0,245.0],\"yaxis\":\"y\",\"type\":\"scatter\"},{\"hoverinfo\":\"text\",\"marker\":{\"color\":\"rgb(255,65,54)\"},\"mode\":\"lines\",\"x\":[-0.0,-0.7143167404390158,-0.7143167404390158,-0.0],\"xaxis\":\"x\",\"y\":[265.0,265.0,275.0,275.0],\"yaxis\":\"y\",\"type\":\"scatter\"},{\"hoverinfo\":\"text\",\"marker\":{\"color\":\"rgb(255,65,54)\"},\"mode\":\"lines\",\"x\":[-0.0,-0.741917495158671,-0.741917495158671,-0.7143167404390158],\"xaxis\":\"x\",\"y\":[255.0,255.0,270.0,270.0],\"yaxis\":\"y\",\"type\":\"scatter\"},{\"hoverinfo\":\"text\",\"marker\":{\"color\":\"rgb(255,65,54)\"},\"mode\":\"lines\",\"x\":[-0.6100999016986952,-1.0345027957442479,-1.0345027957442479,-0.741917495158671],\"xaxis\":\"x\",\"y\":[240.0,240.0,262.5,262.5],\"yaxis\":\"y\",\"type\":\"scatter\"},{\"hoverinfo\":\"text\",\"marker\":{\"color\":\"rgb(255,65,54)\"},\"mode\":\"lines\",\"x\":[-0.594218379651654,-1.3176949795935509,-1.3176949795935509,-1.0345027957442479],\"xaxis\":\"x\",\"y\":[203.75,203.75,251.25,251.25],\"yaxis\":\"y\",\"type\":\"scatter\"},{\"hoverinfo\":\"text\",\"marker\":{\"color\":\"rgb(255,65,54)\"},\"mode\":\"lines\",\"x\":[-0.0,-0.5860527526163789,-0.5860527526163789,-0.0],\"xaxis\":\"x\",\"y\":[295.0,295.0,305.0,305.0],\"yaxis\":\"y\",\"type\":\"scatter\"},{\"hoverinfo\":\"text\",\"marker\":{\"color\":\"rgb(255,65,54)\"},\"mode\":\"lines\",\"x\":[-0.0,-0.9198014540331166,-0.9198014540331166,-0.5860527526163789],\"xaxis\":\"x\",\"y\":[285.0,285.0,300.0,300.0],\"yaxis\":\"y\",\"type\":\"scatter\"},{\"hoverinfo\":\"text\",\"marker\":{\"color\":\"rgb(255,65,54)\"},\"mode\":\"lines\",\"x\":[-0.0,-0.8122948733688632,-0.8122948733688632,-0.0],\"xaxis\":\"x\",\"y\":[325.0,325.0,335.0,335.0],\"yaxis\":\"y\",\"type\":\"scatter\"},{\"hoverinfo\":\"text\",\"marker\":{\"color\":\"rgb(255,65,54)\"},\"mode\":\"lines\",\"x\":[-0.0,-1.2353239060658205,-1.2353239060658205,-0.8122948733688632],\"xaxis\":\"x\",\"y\":[315.0,315.0,330.0,330.0],\"yaxis\":\"y\",\"type\":\"scatter\"},{\"hoverinfo\":\"text\",\"marker\":{\"color\":\"rgb(255,65,54)\"},\"mode\":\"lines\",\"x\":[-0.9198014540331166,-1.7410786154483753,-1.7410786154483753,-1.2353239060658205],\"xaxis\":\"x\",\"y\":[292.5,292.5,322.5,322.5],\"yaxis\":\"y\",\"type\":\"scatter\"},{\"hoverinfo\":\"text\",\"marker\":{\"color\":\"rgb(255,65,54)\"},\"mode\":\"lines\",\"x\":[-1.3176949795935509,-2.0365787023352193,-2.0365787023352193,-1.7410786154483753],\"xaxis\":\"x\",\"y\":[227.5,227.5,307.5,307.5],\"yaxis\":\"y\",\"type\":\"scatter\"},{\"hoverinfo\":\"text\",\"marker\":{\"color\":\"rgb(255,65,54)\"},\"mode\":\"lines\",\"x\":[-0.0,-0.38488686982570547,-0.38488686982570547,-0.0],\"xaxis\":\"x\",\"y\":[345.0,345.0,355.0,355.0],\"yaxis\":\"y\",\"type\":\"scatter\"},{\"hoverinfo\":\"text\",\"marker\":{\"color\":\"rgb(255,65,54)\"},\"mode\":\"lines\",\"x\":[-0.0,-0.592506120021375,-0.592506120021375,-0.0],\"xaxis\":\"x\",\"y\":[385.0,385.0,395.0,395.0],\"yaxis\":\"y\",\"type\":\"scatter\"},{\"hoverinfo\":\"text\",\"marker\":{\"color\":\"rgb(255,65,54)\"},\"mode\":\"lines\",\"x\":[-0.0,-0.6727486529421689,-0.6727486529421689,-0.592506120021375],\"xaxis\":\"x\",\"y\":[375.0,375.0,390.0,390.0],\"yaxis\":\"y\",\"type\":\"scatter\"},{\"hoverinfo\":\"text\",\"marker\":{\"color\":\"rgb(255,65,54)\"},\"mode\":\"lines\",\"x\":[-0.0,-0.7719199663339232,-0.7719199663339232,-0.6727486529421689],\"xaxis\":\"x\",\"y\":[365.0,365.0,382.5,382.5],\"yaxis\":\"y\",\"type\":\"scatter\"},{\"hoverinfo\":\"text\",\"marker\":{\"color\":\"rgb(255,65,54)\"},\"mode\":\"lines\",\"x\":[-0.38488686982570547,-1.0097515994277007,-1.0097515994277007,-0.7719199663339232],\"xaxis\":\"x\",\"y\":[350.0,350.0,373.75,373.75],\"yaxis\":\"y\",\"type\":\"scatter\"},{\"hoverinfo\":\"text\",\"marker\":{\"color\":\"rgb(255,65,54)\"},\"mode\":\"lines\",\"x\":[-0.0,-0.0680280615573004,-0.0680280615573004,-0.0],\"xaxis\":\"x\",\"y\":[405.0,405.0,415.0,415.0],\"yaxis\":\"y\",\"type\":\"scatter\"},{\"hoverinfo\":\"text\",\"marker\":{\"color\":\"rgb(255,65,54)\"},\"mode\":\"lines\",\"x\":[-0.0,-0.4161512624050761,-0.4161512624050761,-0.0],\"xaxis\":\"x\",\"y\":[425.0,425.0,435.0,435.0],\"yaxis\":\"y\",\"type\":\"scatter\"},{\"hoverinfo\":\"text\",\"marker\":{\"color\":\"rgb(255,65,54)\"},\"mode\":\"lines\",\"x\":[-0.0680280615573004,-1.2915427021461823,-1.2915427021461823,-0.4161512624050761],\"xaxis\":\"x\",\"y\":[410.0,410.0,430.0,430.0],\"yaxis\":\"y\",\"type\":\"scatter\"},{\"hoverinfo\":\"text\",\"marker\":{\"color\":\"rgb(255,65,54)\"},\"mode\":\"lines\",\"x\":[-1.0097515994277007,-1.4124303675609742,-1.4124303675609742,-1.2915427021461823],\"xaxis\":\"x\",\"y\":[361.875,361.875,420.0,420.0],\"yaxis\":\"y\",\"type\":\"scatter\"},{\"hoverinfo\":\"text\",\"marker\":{\"color\":\"rgb(255,65,54)\"},\"mode\":\"lines\",\"x\":[-0.0,-0.41742246878827205,-0.41742246878827205,-0.0],\"xaxis\":\"x\",\"y\":[445.0,445.0,455.0,455.0],\"yaxis\":\"y\",\"type\":\"scatter\"},{\"hoverinfo\":\"text\",\"marker\":{\"color\":\"rgb(255,65,54)\"},\"mode\":\"lines\",\"x\":[-0.0,-0.335753756138199,-0.335753756138199,-0.0],\"xaxis\":\"x\",\"y\":[485.0,485.0,495.0,495.0],\"yaxis\":\"y\",\"type\":\"scatter\"},{\"hoverinfo\":\"text\",\"marker\":{\"color\":\"rgb(255,65,54)\"},\"mode\":\"lines\",\"x\":[-0.0,-0.627573595157154,-0.627573595157154,-0.335753756138199],\"xaxis\":\"x\",\"y\":[475.0,475.0,490.0,490.0],\"yaxis\":\"y\",\"type\":\"scatter\"},{\"hoverinfo\":\"text\",\"marker\":{\"color\":\"rgb(255,65,54)\"},\"mode\":\"lines\",\"x\":[-0.0,-0.6840022101818798,-0.6840022101818798,-0.627573595157154],\"xaxis\":\"x\",\"y\":[465.0,465.0,482.5,482.5],\"yaxis\":\"y\",\"type\":\"scatter\"},{\"hoverinfo\":\"text\",\"marker\":{\"color\":\"rgb(255,65,54)\"},\"mode\":\"lines\",\"x\":[-0.41742246878827205,-0.8252845596596591,-0.8252845596596591,-0.6840022101818798],\"xaxis\":\"x\",\"y\":[450.0,450.0,473.75,473.75],\"yaxis\":\"y\",\"type\":\"scatter\"},{\"hoverinfo\":\"text\",\"marker\":{\"color\":\"rgb(255,65,54)\"},\"mode\":\"lines\",\"x\":[-0.0,-0.4650912389870943,-0.4650912389870943,-0.0],\"xaxis\":\"x\",\"y\":[515.0,515.0,525.0,525.0],\"yaxis\":\"y\",\"type\":\"scatter\"},{\"hoverinfo\":\"text\",\"marker\":{\"color\":\"rgb(255,65,54)\"},\"mode\":\"lines\",\"x\":[-0.0,-0.5100204502175937,-0.5100204502175937,-0.4650912389870943],\"xaxis\":\"x\",\"y\":[505.0,505.0,520.0,520.0],\"yaxis\":\"y\",\"type\":\"scatter\"},{\"hoverinfo\":\"text\",\"marker\":{\"color\":\"rgb(255,65,54)\"},\"mode\":\"lines\",\"x\":[-0.0,-0.48390181067226073,-0.48390181067226073,-0.0],\"xaxis\":\"x\",\"y\":[545.0,545.0,555.0,555.0],\"yaxis\":\"y\",\"type\":\"scatter\"},{\"hoverinfo\":\"text\",\"marker\":{\"color\":\"rgb(255,65,54)\"},\"mode\":\"lines\",\"x\":[-0.0,-0.676506945240579,-0.676506945240579,-0.48390181067226073],\"xaxis\":\"x\",\"y\":[535.0,535.0,550.0,550.0],\"yaxis\":\"y\",\"type\":\"scatter\"},{\"hoverinfo\":\"text\",\"marker\":{\"color\":\"rgb(255,65,54)\"},\"mode\":\"lines\",\"x\":[-0.5100204502175937,-0.8912080367448446,-0.8912080367448446,-0.676506945240579],\"xaxis\":\"x\",\"y\":[512.5,512.5,542.5,542.5],\"yaxis\":\"y\",\"type\":\"scatter\"},{\"hoverinfo\":\"text\",\"marker\":{\"color\":\"rgb(255,65,54)\"},\"mode\":\"lines\",\"x\":[-0.8252845596596591,-1.6854949570662754,-1.6854949570662754,-0.8912080367448446],\"xaxis\":\"x\",\"y\":[461.875,461.875,527.5,527.5],\"yaxis\":\"y\",\"type\":\"scatter\"},{\"hoverinfo\":\"text\",\"marker\":{\"color\":\"rgb(255,65,54)\"},\"mode\":\"lines\",\"x\":[-1.4124303675609742,-3.4417071389664433,-3.4417071389664433,-1.6854949570662754],\"xaxis\":\"x\",\"y\":[390.9375,390.9375,494.6875,494.6875],\"yaxis\":\"y\",\"type\":\"scatter\"},{\"hoverinfo\":\"text\",\"marker\":{\"color\":\"rgb(255,65,54)\"},\"mode\":\"lines\",\"x\":[-2.0365787023352193,-4.414451408517917,-4.414451408517917,-3.4417071389664433],\"xaxis\":\"x\",\"y\":[267.5,267.5,442.8125,442.8125],\"yaxis\":\"y\",\"type\":\"scatter\"},{\"hoverinfo\":\"text\",\"marker\":{\"color\":\"rgb(0,116,217)\"},\"mode\":\"lines\",\"x\":[-3.6003428615724853,-16.282344979184508,-16.282344979184508,-4.414451408517917],\"xaxis\":\"x\",\"y\":[43.59375,43.59375,355.15625,355.15625],\"yaxis\":\"y\",\"type\":\"scatter\"}],                        {\"autosize\":false,\"height\":null,\"hovermode\":\"closest\",\"showlegend\":false,\"width\":null,\"xaxis\":{\"mirror\":\"allticks\",\"rangemode\":\"tozero\",\"showgrid\":false,\"showline\":true,\"showticklabels\":true,\"ticks\":\"outside\",\"type\":\"linear\",\"zeroline\":false},\"yaxis\":{\"mirror\":\"allticks\",\"rangemode\":\"tozero\",\"showgrid\":false,\"showline\":true,\"showticklabels\":true,\"tickmode\":\"array\",\"ticks\":\"outside\",\"ticktext\":[\"\\u5343\\u9877\\u5802\\u4e66\\u76ee\",\"\\u4e09\\u56fd\\u53f2\\u8bb0\",\"\\u4e09\\u56fd\\u5fd7\",\"\\u5341\\u516d\\u56fd\\u6625\\u79cb\",\"\\u8d44\\u6cbb\\u901a\\u9274\",\"\\u5143\\u4ee3\\u594f\\u8bae\\u96c6\\u5f55\",\"\\u6c5f\\u5357\\u91ce\\u53f2\",\"\\u4e09\\u56fd\\u6f14\\u4e49\",\"\\u5211\\u6848\\u6c47\\u89c8\\u4e09\\u7f16\",\"\\u4e1c\\u534e\\u7eed\\u5f55\\u9009\\u8f91\",\"\\u6e05\\u53f2\\u7a3f\",\"\\u5143\\u53f2\",\"\\u660e\\u53f2\",\"\\u4e91\\u9e93\\u6f2b\\u949e\",\"\\u660e\\u6e05\\u5fbd\\u5546\\u8d44\\u6599\\u9009\\u7f16\",\"\\u660e\\u5b9e\\u5f55\\u5b5d\\u5b97\\u5b9e\\u5f55\",\"\\u660e\\u5b9e\\u5f55\\u795e\\u5b97\\u5b9e\\u5f55\",\"\\u5b8b\\u4e66\",\"\\u4e1c\\u5357\\u7eaa\\u4e8b\",\"\\u56db\\u559c\\u8bb0\",\"\\u6619\\u82b1\\u8bb0\",\"\\u8fd0\\u7513\\u8bb0\",\"\\u9999\\u56ca\\u8bb0\",\"\\u7d2b\\u9497\\u8bb0\",\"\\u7d2b\\u7bab\\u8bb0\",\"\\u9ec4\\u6c0f\\u5b9d\\u5377\",\"\\u7389\\u5408\\u8bb0\",\"\\u897f\\u53a2\\u8bb0\",\"\\u84dd\\u516c\\u6848\",\"\\u5305\\u516c\\u6848\",\"\\u897f\\u6e56\\u4e8c\\u96c6\",\"\\u5510\\u671d\\u5f00\\u56fd\\u6f14\\u4e49\",\"\\u6881\\u7687\\u5b9d\\u5377\",\"\\u9c7c\\u7bee\\u5b9d\\u5377\",\"\\u6e05\\u4ee3\\u5bab\\u5ef7\\u8273\\u53f2\",\"\\u660e\\u4ee3\\u5bab\\u95f1\\u53f2\",\"\\u7ea2\\u697c\\u590d\\u68a6\",\"\\u5c0f\\u4e94\\u4e49\",\"\\u7ea2\\u697c\\u68a6\",\"\\u6c5f\\u6e56\\u5947\\u4fa0\\u4f20\",\"\\u91d1\\u74f6\\u6885\\u8bcd\\u8bdd\\u4e07\\u5386\\u672c\",\"\\u91d1\\u74f6\\u6885\",\"\\u897f\\u6e38\\u8bb0\\u8865\",\"\\u897f\\u6e38\\u8bb0\",\"\\u5b9a\\u60c5\\u4eba\",\"\\u68a6\\u4e2d\\u7f18\",\"\\u6e05\\u671d\\u79d8\\u53f2\",\"\\u5a9a\\u53f2\",\"\\u968b\\u5510\\u6f14\\u4e49\",\"\\u55bb\\u4e16\\u660e\\u8a00\",\"\\u75db\\u53f2\",\"\\u4e09\\u4fa0\\u4e94\\u4e49\",\"\\u68bc\\u674c\\u95f2\\u8bc4\",\"\\u6c34\\u6d52\\u4f20\",\"\\u6c34\\u6d52\\u540e\\u4f20\",\"\\u4e03\\u5251\\u5341\\u4e09\\u4fa0\"],\"tickvals\":[5.0,15.0,25.0,35.0,45.0,55.0,65.0,75.0,85.0,95.0,105.0,115.0,125.0,135.0,145.0,155.0,165.0,175.0,185.0,195.0,205.0,215.0,225.0,235.0,245.0,255.0,265.0,275.0,285.0,295.0,305.0,315.0,325.0,335.0,345.0,355.0,365.0,375.0,385.0,395.0,405.0,415.0,425.0,435.0,445.0,455.0,465.0,475.0,485.0,495.0,505.0,515.0,525.0,535.0,545.0,555.0],\"type\":\"linear\",\"zeroline\":false},\"template\":{\"data\":{\"bar\":[{\"error_x\":{\"color\":\"#2a3f5f\"},\"error_y\":{\"color\":\"#2a3f5f\"},\"marker\":{\"line\":{\"color\":\"#E5ECF6\",\"width\":0.5},\"pattern\":{\"fillmode\":\"overlay\",\"size\":10,\"solidity\":0.2}},\"type\":\"bar\"}],\"barpolar\":[{\"marker\":{\"line\":{\"color\":\"#E5ECF6\",\"width\":0.5},\"pattern\":{\"fillmode\":\"overlay\",\"size\":10,\"solidity\":0.2}},\"type\":\"barpolar\"}],\"carpet\":[{\"aaxis\":{\"endlinecolor\":\"#2a3f5f\",\"gridcolor\":\"white\",\"linecolor\":\"white\",\"minorgridcolor\":\"white\",\"startlinecolor\":\"#2a3f5f\"},\"baxis\":{\"endlinecolor\":\"#2a3f5f\",\"gridcolor\":\"white\",\"linecolor\":\"white\",\"minorgridcolor\":\"white\",\"startlinecolor\":\"#2a3f5f\"},\"type\":\"carpet\"}],\"choropleth\":[{\"colorbar\":{\"outlinewidth\":0,\"ticks\":\"\"},\"type\":\"choropleth\"}],\"contour\":[{\"colorbar\":{\"outlinewidth\":0,\"ticks\":\"\"},\"colorscale\":[[0.0,\"#0d0887\"],[0.1111111111111111,\"#46039f\"],[0.2222222222222222,\"#7201a8\"],[0.3333333333333333,\"#9c179e\"],[0.4444444444444444,\"#bd3786\"],[0.5555555555555556,\"#d8576b\"],[0.6666666666666666,\"#ed7953\"],[0.7777777777777778,\"#fb9f3a\"],[0.8888888888888888,\"#fdca26\"],[1.0,\"#f0f921\"]],\"type\":\"contour\"}],\"contourcarpet\":[{\"colorbar\":{\"outlinewidth\":0,\"ticks\":\"\"},\"type\":\"contourcarpet\"}],\"heatmap\":[{\"colorbar\":{\"outlinewidth\":0,\"ticks\":\"\"},\"colorscale\":[[0.0,\"#0d0887\"],[0.1111111111111111,\"#46039f\"],[0.2222222222222222,\"#7201a8\"],[0.3333333333333333,\"#9c179e\"],[0.4444444444444444,\"#bd3786\"],[0.5555555555555556,\"#d8576b\"],[0.6666666666666666,\"#ed7953\"],[0.7777777777777778,\"#fb9f3a\"],[0.8888888888888888,\"#fdca26\"],[1.0,\"#f0f921\"]],\"type\":\"heatmap\"}],\"heatmapgl\":[{\"colorbar\":{\"outlinewidth\":0,\"ticks\":\"\"},\"colorscale\":[[0.0,\"#0d0887\"],[0.1111111111111111,\"#46039f\"],[0.2222222222222222,\"#7201a8\"],[0.3333333333333333,\"#9c179e\"],[0.4444444444444444,\"#bd3786\"],[0.5555555555555556,\"#d8576b\"],[0.6666666666666666,\"#ed7953\"],[0.7777777777777778,\"#fb9f3a\"],[0.8888888888888888,\"#fdca26\"],[1.0,\"#f0f921\"]],\"type\":\"heatmapgl\"}],\"histogram\":[{\"marker\":{\"pattern\":{\"fillmode\":\"overlay\",\"size\":10,\"solidity\":0.2}},\"type\":\"histogram\"}],\"histogram2d\":[{\"colorbar\":{\"outlinewidth\":0,\"ticks\":\"\"},\"colorscale\":[[0.0,\"#0d0887\"],[0.1111111111111111,\"#46039f\"],[0.2222222222222222,\"#7201a8\"],[0.3333333333333333,\"#9c179e\"],[0.4444444444444444,\"#bd3786\"],[0.5555555555555556,\"#d8576b\"],[0.6666666666666666,\"#ed7953\"],[0.7777777777777778,\"#fb9f3a\"],[0.8888888888888888,\"#fdca26\"],[1.0,\"#f0f921\"]],\"type\":\"histogram2d\"}],\"histogram2dcontour\":[{\"colorbar\":{\"outlinewidth\":0,\"ticks\":\"\"},\"colorscale\":[[0.0,\"#0d0887\"],[0.1111111111111111,\"#46039f\"],[0.2222222222222222,\"#7201a8\"],[0.3333333333333333,\"#9c179e\"],[0.4444444444444444,\"#bd3786\"],[0.5555555555555556,\"#d8576b\"],[0.6666666666666666,\"#ed7953\"],[0.7777777777777778,\"#fb9f3a\"],[0.8888888888888888,\"#fdca26\"],[1.0,\"#f0f921\"]],\"type\":\"histogram2dcontour\"}],\"mesh3d\":[{\"colorbar\":{\"outlinewidth\":0,\"ticks\":\"\"},\"type\":\"mesh3d\"}],\"parcoords\":[{\"line\":{\"colorbar\":{\"outlinewidth\":0,\"ticks\":\"\"}},\"type\":\"parcoords\"}],\"pie\":[{\"automargin\":true,\"type\":\"pie\"}],\"scatter\":[{\"marker\":{\"colorbar\":{\"outlinewidth\":0,\"ticks\":\"\"}},\"type\":\"scatter\"}],\"scatter3d\":[{\"line\":{\"colorbar\":{\"outlinewidth\":0,\"ticks\":\"\"}},\"marker\":{\"colorbar\":{\"outlinewidth\":0,\"ticks\":\"\"}},\"type\":\"scatter3d\"}],\"scattercarpet\":[{\"marker\":{\"colorbar\":{\"outlinewidth\":0,\"ticks\":\"\"}},\"type\":\"scattercarpet\"}],\"scattergeo\":[{\"marker\":{\"colorbar\":{\"outlinewidth\":0,\"ticks\":\"\"}},\"type\":\"scattergeo\"}],\"scattergl\":[{\"marker\":{\"colorbar\":{\"outlinewidth\":0,\"ticks\":\"\"}},\"type\":\"scattergl\"}],\"scattermapbox\":[{\"marker\":{\"colorbar\":{\"outlinewidth\":0,\"ticks\":\"\"}},\"type\":\"scattermapbox\"}],\"scatterpolar\":[{\"marker\":{\"colorbar\":{\"outlinewidth\":0,\"ticks\":\"\"}},\"type\":\"scatterpolar\"}],\"scatterpolargl\":[{\"marker\":{\"colorbar\":{\"outlinewidth\":0,\"ticks\":\"\"}},\"type\":\"scatterpolargl\"}],\"scatterternary\":[{\"marker\":{\"colorbar\":{\"outlinewidth\":0,\"ticks\":\"\"}},\"type\":\"scatterternary\"}],\"surface\":[{\"colorbar\":{\"outlinewidth\":0,\"ticks\":\"\"},\"colorscale\":[[0.0,\"#0d0887\"],[0.1111111111111111,\"#46039f\"],[0.2222222222222222,\"#7201a8\"],[0.3333333333333333,\"#9c179e\"],[0.4444444444444444,\"#bd3786\"],[0.5555555555555556,\"#d8576b\"],[0.6666666666666666,\"#ed7953\"],[0.7777777777777778,\"#fb9f3a\"],[0.8888888888888888,\"#fdca26\"],[1.0,\"#f0f921\"]],\"type\":\"surface\"}],\"table\":[{\"cells\":{\"fill\":{\"color\":\"#EBF0F8\"},\"line\":{\"color\":\"white\"}},\"header\":{\"fill\":{\"color\":\"#C8D4E3\"},\"line\":{\"color\":\"white\"}},\"type\":\"table\"}]},\"layout\":{\"annotationdefaults\":{\"arrowcolor\":\"#2a3f5f\",\"arrowhead\":0,\"arrowwidth\":1},\"autotypenumbers\":\"strict\",\"coloraxis\":{\"colorbar\":{\"outlinewidth\":0,\"ticks\":\"\"}},\"colorscale\":{\"diverging\":[[0,\"#8e0152\"],[0.1,\"#c51b7d\"],[0.2,\"#de77ae\"],[0.3,\"#f1b6da\"],[0.4,\"#fde0ef\"],[0.5,\"#f7f7f7\"],[0.6,\"#e6f5d0\"],[0.7,\"#b8e186\"],[0.8,\"#7fbc41\"],[0.9,\"#4d9221\"],[1,\"#276419\"]],\"sequential\":[[0.0,\"#0d0887\"],[0.1111111111111111,\"#46039f\"],[0.2222222222222222,\"#7201a8\"],[0.3333333333333333,\"#9c179e\"],[0.4444444444444444,\"#bd3786\"],[0.5555555555555556,\"#d8576b\"],[0.6666666666666666,\"#ed7953\"],[0.7777777777777778,\"#fb9f3a\"],[0.8888888888888888,\"#fdca26\"],[1.0,\"#f0f921\"]],\"sequentialminus\":[[0.0,\"#0d0887\"],[0.1111111111111111,\"#46039f\"],[0.2222222222222222,\"#7201a8\"],[0.3333333333333333,\"#9c179e\"],[0.4444444444444444,\"#bd3786\"],[0.5555555555555556,\"#d8576b\"],[0.6666666666666666,\"#ed7953\"],[0.7777777777777778,\"#fb9f3a\"],[0.8888888888888888,\"#fdca26\"],[1.0,\"#f0f921\"]]},\"colorway\":[\"#636efa\",\"#EF553B\",\"#00cc96\",\"#ab63fa\",\"#FFA15A\",\"#19d3f3\",\"#FF6692\",\"#B6E880\",\"#FF97FF\",\"#FECB52\"],\"font\":{\"color\":\"#2a3f5f\"},\"geo\":{\"bgcolor\":\"white\",\"lakecolor\":\"white\",\"landcolor\":\"#E5ECF6\",\"showlakes\":true,\"showland\":true,\"subunitcolor\":\"white\"},\"hoverlabel\":{\"align\":\"left\"},\"hovermode\":\"closest\",\"mapbox\":{\"style\":\"light\"},\"paper_bgcolor\":\"white\",\"plot_bgcolor\":\"#E5ECF6\",\"polar\":{\"angularaxis\":{\"gridcolor\":\"white\",\"linecolor\":\"white\",\"ticks\":\"\"},\"bgcolor\":\"#E5ECF6\",\"radialaxis\":{\"gridcolor\":\"white\",\"linecolor\":\"white\",\"ticks\":\"\"}},\"scene\":{\"xaxis\":{\"backgroundcolor\":\"#E5ECF6\",\"gridcolor\":\"white\",\"gridwidth\":2,\"linecolor\":\"white\",\"showbackground\":true,\"ticks\":\"\",\"zerolinecolor\":\"white\"},\"yaxis\":{\"backgroundcolor\":\"#E5ECF6\",\"gridcolor\":\"white\",\"gridwidth\":2,\"linecolor\":\"white\",\"showbackground\":true,\"ticks\":\"\",\"zerolinecolor\":\"white\"},\"zaxis\":{\"backgroundcolor\":\"#E5ECF6\",\"gridcolor\":\"white\",\"gridwidth\":2,\"linecolor\":\"white\",\"showbackground\":true,\"ticks\":\"\",\"zerolinecolor\":\"white\"}},\"shapedefaults\":{\"line\":{\"color\":\"#2a3f5f\"}},\"ternary\":{\"aaxis\":{\"gridcolor\":\"white\",\"linecolor\":\"white\",\"ticks\":\"\"},\"baxis\":{\"gridcolor\":\"white\",\"linecolor\":\"white\",\"ticks\":\"\"},\"bgcolor\":\"#E5ECF6\",\"caxis\":{\"gridcolor\":\"white\",\"linecolor\":\"white\",\"ticks\":\"\"}},\"title\":{\"x\":0.05},\"xaxis\":{\"automargin\":true,\"gridcolor\":\"white\",\"linecolor\":\"white\",\"ticks\":\"\",\"title\":{\"standoff\":15},\"zerolinecolor\":\"white\",\"zerolinewidth\":2},\"yaxis\":{\"automargin\":true,\"gridcolor\":\"white\",\"linecolor\":\"white\",\"ticks\":\"\",\"title\":{\"standoff\":15},\"zerolinecolor\":\"white\",\"zerolinewidth\":2}}}},                        {\"responsive\": true}                    ).then(function(){\n",
       "                            \n",
       "var gd = document.getElementById('32826695-64ef-4253-84ba-886564bf2634');\n",
       "var x = new MutationObserver(function (mutations, observer) {{\n",
       "        var display = window.getComputedStyle(gd).display;\n",
       "        if (!display || display === 'none') {{\n",
       "            console.log([gd, 'removed!']);\n",
       "            Plotly.purge(gd);\n",
       "            observer.disconnect();\n",
       "        }}\n",
       "}});\n",
       "\n",
       "// Listen for the removal of the full notebook cells\n",
       "var notebookContainer = gd.closest('#notebook-container');\n",
       "if (notebookContainer) {{\n",
       "    x.observe(notebookContainer, {childList: true});\n",
       "}}\n",
       "\n",
       "// Listen for the clearing of the current output cell\n",
       "var outputEl = gd.closest('.output');\n",
       "if (outputEl) {{\n",
       "    x.observe(outputEl, {childList: true});\n",
       "}}\n",
       "\n",
       "                        })                };                });            </script>        </div>"
      ]
     },
     "metadata": {},
     "output_type": "display_data"
    }
   ],
   "source": [
    "# create containers for the data\n",
    "texts, titles, dynasties, sikus, subcats, authors = [], [], [], [], [], []\n",
    "\n",
    "if convert_to_traditional:\n",
    "    c = Convert(preserve_multiple=False)\n",
    "\n",
    "if analysis_vocab_file:\n",
    "    with open(analysis_vocab_file, 'r', encoding='utf8') as rf:\n",
    "        vocab = [v for v in rf.read().split(\"\\n\") if v != \"\"]\n",
    "else:\n",
    "    vocab = None\n",
    "\n",
    "\n",
    "    \n",
    "# go through every file in the demo corpus\n",
    "for root, dirs, files in os.walk(corpus_folder_name):\n",
    "  for fname in files:\n",
    "    # check that the file in question is a .txt file\n",
    "    if fname.endswith(\".txt\"):\n",
    "      # open the file\n",
    "      with open(os.path.join(root, fname), 'r', encoding='utf8') as rf:\n",
    "\n",
    "        # read and clean the file and append it to the texts list\n",
    "        text = clean(rf.read())\n",
    "        \n",
    "        # if covert_to_traditional is set to True, convert\n",
    "        if convert_to_traditional:\n",
    "            text = c.to_trad(text)\n",
    "        \n",
    "        # append to text list\n",
    "        texts.append(text)\n",
    "\n",
    "        # extract the metadata from the name of the file\n",
    "        title,dynasty,siku,subcat,author = fname.replace(\".txt\", \"\").split(\"_\")\n",
    "\n",
    "        # append the metadata to the apppopriate label list\n",
    "        titles.append(title)\n",
    "        dynasties.append(dynasty)\n",
    "        sikus.append(siku)\n",
    "        subcats.append(subcat)\n",
    "        authors.append(author)\n",
    "\n",
    "\n",
    "\n",
    "\n"
   ]
  },
  {
   "cell_type": "code",
   "execution_count": null,
   "id": "d5d65c53",
   "metadata": {},
   "outputs": [],
   "source": [
    "# Run the analysis\n",
    "vectorizer = TfidfVectorizer(vocabulary=vocab, max_features=most_common_words, use_idf=False, analyzer=\"char\")\n",
    "\n",
    "vecs = vectorizer.fit_transform(texts)\n",
    "\n",
    "distances = euclidean_distances(vecs)"
   ]
  },
  {
   "cell_type": "code",
   "execution_count": 30,
   "id": "6b977073",
   "metadata": {},
   "outputs": [
    {
     "data": {
      "application/vnd.plotly.v1+json": {
       "config": {
        "plotlyServerURL": "https://plot.ly"
       },
       "data": [
        {
         "hoverinfo": "text",
         "marker": {
          "color": "rgb(61,153,112)"
         },
         "mode": "lines",
         "type": "scatter",
         "x": [
          0,
          -1.3356867871294575,
          -1.3356867871294575,
          0
         ],
         "xaxis": "x",
         "y": [
          5,
          5,
          15,
          15
         ],
         "yaxis": "y"
        },
        {
         "hoverinfo": "text",
         "marker": {
          "color": "rgb(61,153,112)"
         },
         "mode": "lines",
         "type": "scatter",
         "x": [
          0,
          -0.3363552928259562,
          -0.3363552928259562,
          0
         ],
         "xaxis": "x",
         "y": [
          35,
          35,
          45,
          45
         ],
         "yaxis": "y"
        },
        {
         "hoverinfo": "text",
         "marker": {
          "color": "rgb(61,153,112)"
         },
         "mode": "lines",
         "type": "scatter",
         "x": [
          0,
          -0.441218020942909,
          -0.441218020942909,
          -0.3363552928259562
         ],
         "xaxis": "x",
         "y": [
          25,
          25,
          40,
          40
         ],
         "yaxis": "y"
        },
        {
         "hoverinfo": "text",
         "marker": {
          "color": "rgb(61,153,112)"
         },
         "mode": "lines",
         "type": "scatter",
         "x": [
          0,
          -0.5954783742564366,
          -0.5954783742564366,
          0
         ],
         "xaxis": "x",
         "y": [
          55,
          55,
          65,
          65
         ],
         "yaxis": "y"
        },
        {
         "hoverinfo": "text",
         "marker": {
          "color": "rgb(61,153,112)"
         },
         "mode": "lines",
         "type": "scatter",
         "x": [
          -0.441218020942909,
          -0.9810134716815513,
          -0.9810134716815513,
          -0.5954783742564366
         ],
         "xaxis": "x",
         "y": [
          32.5,
          32.5,
          60,
          60
         ],
         "yaxis": "y"
        },
        {
         "hoverinfo": "text",
         "marker": {
          "color": "rgb(61,153,112)"
         },
         "mode": "lines",
         "type": "scatter",
         "x": [
          0,
          -0.9317007350429,
          -0.9317007350429,
          0
         ],
         "xaxis": "x",
         "y": [
          85,
          85,
          95,
          95
         ],
         "yaxis": "y"
        },
        {
         "hoverinfo": "text",
         "marker": {
          "color": "rgb(61,153,112)"
         },
         "mode": "lines",
         "type": "scatter",
         "x": [
          0,
          -1.2951584315859224,
          -1.2951584315859224,
          -0.9317007350429
         ],
         "xaxis": "x",
         "y": [
          75,
          75,
          90,
          90
         ],
         "yaxis": "y"
        },
        {
         "hoverinfo": "text",
         "marker": {
          "color": "rgb(61,153,112)"
         },
         "mode": "lines",
         "type": "scatter",
         "x": [
          0,
          -0.42912456996338155,
          -0.42912456996338155,
          0
         ],
         "xaxis": "x",
         "y": [
          115,
          115,
          125,
          125
         ],
         "yaxis": "y"
        },
        {
         "hoverinfo": "text",
         "marker": {
          "color": "rgb(61,153,112)"
         },
         "mode": "lines",
         "type": "scatter",
         "x": [
          0,
          -0.6973982985212696,
          -0.6973982985212696,
          -0.42912456996338155
         ],
         "xaxis": "x",
         "y": [
          105,
          105,
          120,
          120
         ],
         "yaxis": "y"
        },
        {
         "hoverinfo": "text",
         "marker": {
          "color": "rgb(61,153,112)"
         },
         "mode": "lines",
         "type": "scatter",
         "x": [
          0,
          -0.5561059525500257,
          -0.5561059525500257,
          0
         ],
         "xaxis": "x",
         "y": [
          135,
          135,
          145,
          145
         ],
         "yaxis": "y"
        },
        {
         "hoverinfo": "text",
         "marker": {
          "color": "rgb(61,153,112)"
         },
         "mode": "lines",
         "type": "scatter",
         "x": [
          0,
          -0.4592499289804087,
          -0.4592499289804087,
          0
         ],
         "xaxis": "x",
         "y": [
          155,
          155,
          165,
          165
         ],
         "yaxis": "y"
        },
        {
         "hoverinfo": "text",
         "marker": {
          "color": "rgb(61,153,112)"
         },
         "mode": "lines",
         "type": "scatter",
         "x": [
          0,
          -0.7423189946705694,
          -0.7423189946705694,
          0
         ],
         "xaxis": "x",
         "y": [
          175,
          175,
          185,
          185
         ],
         "yaxis": "y"
        },
        {
         "hoverinfo": "text",
         "marker": {
          "color": "rgb(61,153,112)"
         },
         "mode": "lines",
         "type": "scatter",
         "x": [
          -0.4592499289804087,
          -0.8995039499739769,
          -0.8995039499739769,
          -0.7423189946705694
         ],
         "xaxis": "x",
         "y": [
          160,
          160,
          180,
          180
         ],
         "yaxis": "y"
        },
        {
         "hoverinfo": "text",
         "marker": {
          "color": "rgb(61,153,112)"
         },
         "mode": "lines",
         "type": "scatter",
         "x": [
          -0.5561059525500257,
          -1.0569809379143345,
          -1.0569809379143345,
          -0.8995039499739769
         ],
         "xaxis": "x",
         "y": [
          140,
          140,
          170,
          170
         ],
         "yaxis": "y"
        },
        {
         "hoverinfo": "text",
         "marker": {
          "color": "rgb(61,153,112)"
         },
         "mode": "lines",
         "type": "scatter",
         "x": [
          -0.6973982985212696,
          -1.336931350412998,
          -1.336931350412998,
          -1.0569809379143345
         ],
         "xaxis": "x",
         "y": [
          112.5,
          112.5,
          155,
          155
         ],
         "yaxis": "y"
        },
        {
         "hoverinfo": "text",
         "marker": {
          "color": "rgb(61,153,112)"
         },
         "mode": "lines",
         "type": "scatter",
         "x": [
          -1.2951584315859224,
          -1.889066519155141,
          -1.889066519155141,
          -1.336931350412998
         ],
         "xaxis": "x",
         "y": [
          82.5,
          82.5,
          133.75,
          133.75
         ],
         "yaxis": "y"
        },
        {
         "hoverinfo": "text",
         "marker": {
          "color": "rgb(61,153,112)"
         },
         "mode": "lines",
         "type": "scatter",
         "x": [
          -0.9810134716815513,
          -2.1726962514589743,
          -2.1726962514589743,
          -1.889066519155141
         ],
         "xaxis": "x",
         "y": [
          46.25,
          46.25,
          108.125,
          108.125
         ],
         "yaxis": "y"
        },
        {
         "hoverinfo": "text",
         "marker": {
          "color": "rgb(61,153,112)"
         },
         "mode": "lines",
         "type": "scatter",
         "x": [
          -1.3356867871294575,
          -3.6003428615724853,
          -3.6003428615724853,
          -2.1726962514589743
         ],
         "xaxis": "x",
         "y": [
          10,
          10,
          77.1875,
          77.1875
         ],
         "yaxis": "y"
        },
        {
         "hoverinfo": "text",
         "marker": {
          "color": "rgb(255,65,54)"
         },
         "mode": "lines",
         "type": "scatter",
         "x": [
          0,
          -0.4377199098242829,
          -0.4377199098242829,
          0
         ],
         "xaxis": "x",
         "y": [
          215,
          215,
          225,
          225
         ],
         "yaxis": "y"
        },
        {
         "hoverinfo": "text",
         "marker": {
          "color": "rgb(255,65,54)"
         },
         "mode": "lines",
         "type": "scatter",
         "x": [
          0,
          -0.5258998873901156,
          -0.5258998873901156,
          -0.4377199098242829
         ],
         "xaxis": "x",
         "y": [
          205,
          205,
          220,
          220
         ],
         "yaxis": "y"
        },
        {
         "hoverinfo": "text",
         "marker": {
          "color": "rgb(255,65,54)"
         },
         "mode": "lines",
         "type": "scatter",
         "x": [
          0,
          -0.594218379651654,
          -0.594218379651654,
          -0.5258998873901156
         ],
         "xaxis": "x",
         "y": [
          195,
          195,
          212.5,
          212.5
         ],
         "yaxis": "y"
        },
        {
         "hoverinfo": "text",
         "marker": {
          "color": "rgb(255,65,54)"
         },
         "mode": "lines",
         "type": "scatter",
         "x": [
          0,
          -0.6100999016986952,
          -0.6100999016986952,
          0
         ],
         "xaxis": "x",
         "y": [
          235,
          235,
          245,
          245
         ],
         "yaxis": "y"
        },
        {
         "hoverinfo": "text",
         "marker": {
          "color": "rgb(255,65,54)"
         },
         "mode": "lines",
         "type": "scatter",
         "x": [
          0,
          -0.7143167404390158,
          -0.7143167404390158,
          0
         ],
         "xaxis": "x",
         "y": [
          265,
          265,
          275,
          275
         ],
         "yaxis": "y"
        },
        {
         "hoverinfo": "text",
         "marker": {
          "color": "rgb(255,65,54)"
         },
         "mode": "lines",
         "type": "scatter",
         "x": [
          0,
          -0.741917495158671,
          -0.741917495158671,
          -0.7143167404390158
         ],
         "xaxis": "x",
         "y": [
          255,
          255,
          270,
          270
         ],
         "yaxis": "y"
        },
        {
         "hoverinfo": "text",
         "marker": {
          "color": "rgb(255,65,54)"
         },
         "mode": "lines",
         "type": "scatter",
         "x": [
          -0.6100999016986952,
          -1.0345027957442479,
          -1.0345027957442479,
          -0.741917495158671
         ],
         "xaxis": "x",
         "y": [
          240,
          240,
          262.5,
          262.5
         ],
         "yaxis": "y"
        },
        {
         "hoverinfo": "text",
         "marker": {
          "color": "rgb(255,65,54)"
         },
         "mode": "lines",
         "type": "scatter",
         "x": [
          -0.594218379651654,
          -1.3176949795935509,
          -1.3176949795935509,
          -1.0345027957442479
         ],
         "xaxis": "x",
         "y": [
          203.75,
          203.75,
          251.25,
          251.25
         ],
         "yaxis": "y"
        },
        {
         "hoverinfo": "text",
         "marker": {
          "color": "rgb(255,65,54)"
         },
         "mode": "lines",
         "type": "scatter",
         "x": [
          0,
          -0.5860527526163789,
          -0.5860527526163789,
          0
         ],
         "xaxis": "x",
         "y": [
          295,
          295,
          305,
          305
         ],
         "yaxis": "y"
        },
        {
         "hoverinfo": "text",
         "marker": {
          "color": "rgb(255,65,54)"
         },
         "mode": "lines",
         "type": "scatter",
         "x": [
          0,
          -0.9198014540331166,
          -0.9198014540331166,
          -0.5860527526163789
         ],
         "xaxis": "x",
         "y": [
          285,
          285,
          300,
          300
         ],
         "yaxis": "y"
        },
        {
         "hoverinfo": "text",
         "marker": {
          "color": "rgb(255,65,54)"
         },
         "mode": "lines",
         "type": "scatter",
         "x": [
          0,
          -0.8122948733688632,
          -0.8122948733688632,
          0
         ],
         "xaxis": "x",
         "y": [
          325,
          325,
          335,
          335
         ],
         "yaxis": "y"
        },
        {
         "hoverinfo": "text",
         "marker": {
          "color": "rgb(255,65,54)"
         },
         "mode": "lines",
         "type": "scatter",
         "x": [
          0,
          -1.2353239060658205,
          -1.2353239060658205,
          -0.8122948733688632
         ],
         "xaxis": "x",
         "y": [
          315,
          315,
          330,
          330
         ],
         "yaxis": "y"
        },
        {
         "hoverinfo": "text",
         "marker": {
          "color": "rgb(255,65,54)"
         },
         "mode": "lines",
         "type": "scatter",
         "x": [
          -0.9198014540331166,
          -1.7410786154483753,
          -1.7410786154483753,
          -1.2353239060658205
         ],
         "xaxis": "x",
         "y": [
          292.5,
          292.5,
          322.5,
          322.5
         ],
         "yaxis": "y"
        },
        {
         "hoverinfo": "text",
         "marker": {
          "color": "rgb(255,65,54)"
         },
         "mode": "lines",
         "type": "scatter",
         "x": [
          -1.3176949795935509,
          -2.0365787023352193,
          -2.0365787023352193,
          -1.7410786154483753
         ],
         "xaxis": "x",
         "y": [
          227.5,
          227.5,
          307.5,
          307.5
         ],
         "yaxis": "y"
        },
        {
         "hoverinfo": "text",
         "marker": {
          "color": "rgb(255,65,54)"
         },
         "mode": "lines",
         "type": "scatter",
         "x": [
          0,
          -0.38488686982570547,
          -0.38488686982570547,
          0
         ],
         "xaxis": "x",
         "y": [
          345,
          345,
          355,
          355
         ],
         "yaxis": "y"
        },
        {
         "hoverinfo": "text",
         "marker": {
          "color": "rgb(255,65,54)"
         },
         "mode": "lines",
         "type": "scatter",
         "x": [
          0,
          -0.592506120021375,
          -0.592506120021375,
          0
         ],
         "xaxis": "x",
         "y": [
          385,
          385,
          395,
          395
         ],
         "yaxis": "y"
        },
        {
         "hoverinfo": "text",
         "marker": {
          "color": "rgb(255,65,54)"
         },
         "mode": "lines",
         "type": "scatter",
         "x": [
          0,
          -0.6727486529421689,
          -0.6727486529421689,
          -0.592506120021375
         ],
         "xaxis": "x",
         "y": [
          375,
          375,
          390,
          390
         ],
         "yaxis": "y"
        },
        {
         "hoverinfo": "text",
         "marker": {
          "color": "rgb(255,65,54)"
         },
         "mode": "lines",
         "type": "scatter",
         "x": [
          0,
          -0.7719199663339232,
          -0.7719199663339232,
          -0.6727486529421689
         ],
         "xaxis": "x",
         "y": [
          365,
          365,
          382.5,
          382.5
         ],
         "yaxis": "y"
        },
        {
         "hoverinfo": "text",
         "marker": {
          "color": "rgb(255,65,54)"
         },
         "mode": "lines",
         "type": "scatter",
         "x": [
          -0.38488686982570547,
          -1.0097515994277007,
          -1.0097515994277007,
          -0.7719199663339232
         ],
         "xaxis": "x",
         "y": [
          350,
          350,
          373.75,
          373.75
         ],
         "yaxis": "y"
        },
        {
         "hoverinfo": "text",
         "marker": {
          "color": "rgb(255,65,54)"
         },
         "mode": "lines",
         "type": "scatter",
         "x": [
          0,
          -0.0680280615573004,
          -0.0680280615573004,
          0
         ],
         "xaxis": "x",
         "y": [
          405,
          405,
          415,
          415
         ],
         "yaxis": "y"
        },
        {
         "hoverinfo": "text",
         "marker": {
          "color": "rgb(255,65,54)"
         },
         "mode": "lines",
         "type": "scatter",
         "x": [
          0,
          -0.4161512624050761,
          -0.4161512624050761,
          0
         ],
         "xaxis": "x",
         "y": [
          425,
          425,
          435,
          435
         ],
         "yaxis": "y"
        },
        {
         "hoverinfo": "text",
         "marker": {
          "color": "rgb(255,65,54)"
         },
         "mode": "lines",
         "type": "scatter",
         "x": [
          -0.0680280615573004,
          -1.2915427021461823,
          -1.2915427021461823,
          -0.4161512624050761
         ],
         "xaxis": "x",
         "y": [
          410,
          410,
          430,
          430
         ],
         "yaxis": "y"
        },
        {
         "hoverinfo": "text",
         "marker": {
          "color": "rgb(255,65,54)"
         },
         "mode": "lines",
         "type": "scatter",
         "x": [
          -1.0097515994277007,
          -1.4124303675609742,
          -1.4124303675609742,
          -1.2915427021461823
         ],
         "xaxis": "x",
         "y": [
          361.875,
          361.875,
          420,
          420
         ],
         "yaxis": "y"
        },
        {
         "hoverinfo": "text",
         "marker": {
          "color": "rgb(255,65,54)"
         },
         "mode": "lines",
         "type": "scatter",
         "x": [
          0,
          -0.41742246878827205,
          -0.41742246878827205,
          0
         ],
         "xaxis": "x",
         "y": [
          445,
          445,
          455,
          455
         ],
         "yaxis": "y"
        },
        {
         "hoverinfo": "text",
         "marker": {
          "color": "rgb(255,65,54)"
         },
         "mode": "lines",
         "type": "scatter",
         "x": [
          0,
          -0.335753756138199,
          -0.335753756138199,
          0
         ],
         "xaxis": "x",
         "y": [
          485,
          485,
          495,
          495
         ],
         "yaxis": "y"
        },
        {
         "hoverinfo": "text",
         "marker": {
          "color": "rgb(255,65,54)"
         },
         "mode": "lines",
         "type": "scatter",
         "x": [
          0,
          -0.627573595157154,
          -0.627573595157154,
          -0.335753756138199
         ],
         "xaxis": "x",
         "y": [
          475,
          475,
          490,
          490
         ],
         "yaxis": "y"
        },
        {
         "hoverinfo": "text",
         "marker": {
          "color": "rgb(255,65,54)"
         },
         "mode": "lines",
         "type": "scatter",
         "x": [
          0,
          -0.6840022101818798,
          -0.6840022101818798,
          -0.627573595157154
         ],
         "xaxis": "x",
         "y": [
          465,
          465,
          482.5,
          482.5
         ],
         "yaxis": "y"
        },
        {
         "hoverinfo": "text",
         "marker": {
          "color": "rgb(255,65,54)"
         },
         "mode": "lines",
         "type": "scatter",
         "x": [
          -0.41742246878827205,
          -0.8252845596596591,
          -0.8252845596596591,
          -0.6840022101818798
         ],
         "xaxis": "x",
         "y": [
          450,
          450,
          473.75,
          473.75
         ],
         "yaxis": "y"
        },
        {
         "hoverinfo": "text",
         "marker": {
          "color": "rgb(255,65,54)"
         },
         "mode": "lines",
         "type": "scatter",
         "x": [
          0,
          -0.4650912389870943,
          -0.4650912389870943,
          0
         ],
         "xaxis": "x",
         "y": [
          515,
          515,
          525,
          525
         ],
         "yaxis": "y"
        },
        {
         "hoverinfo": "text",
         "marker": {
          "color": "rgb(255,65,54)"
         },
         "mode": "lines",
         "type": "scatter",
         "x": [
          0,
          -0.5100204502175937,
          -0.5100204502175937,
          -0.4650912389870943
         ],
         "xaxis": "x",
         "y": [
          505,
          505,
          520,
          520
         ],
         "yaxis": "y"
        },
        {
         "hoverinfo": "text",
         "marker": {
          "color": "rgb(255,65,54)"
         },
         "mode": "lines",
         "type": "scatter",
         "x": [
          0,
          -0.48390181067226073,
          -0.48390181067226073,
          0
         ],
         "xaxis": "x",
         "y": [
          545,
          545,
          555,
          555
         ],
         "yaxis": "y"
        },
        {
         "hoverinfo": "text",
         "marker": {
          "color": "rgb(255,65,54)"
         },
         "mode": "lines",
         "type": "scatter",
         "x": [
          0,
          -0.676506945240579,
          -0.676506945240579,
          -0.48390181067226073
         ],
         "xaxis": "x",
         "y": [
          535,
          535,
          550,
          550
         ],
         "yaxis": "y"
        },
        {
         "hoverinfo": "text",
         "marker": {
          "color": "rgb(255,65,54)"
         },
         "mode": "lines",
         "type": "scatter",
         "x": [
          -0.5100204502175937,
          -0.8912080367448446,
          -0.8912080367448446,
          -0.676506945240579
         ],
         "xaxis": "x",
         "y": [
          512.5,
          512.5,
          542.5,
          542.5
         ],
         "yaxis": "y"
        },
        {
         "hoverinfo": "text",
         "marker": {
          "color": "rgb(255,65,54)"
         },
         "mode": "lines",
         "type": "scatter",
         "x": [
          -0.8252845596596591,
          -1.6854949570662754,
          -1.6854949570662754,
          -0.8912080367448446
         ],
         "xaxis": "x",
         "y": [
          461.875,
          461.875,
          527.5,
          527.5
         ],
         "yaxis": "y"
        },
        {
         "hoverinfo": "text",
         "marker": {
          "color": "rgb(255,65,54)"
         },
         "mode": "lines",
         "type": "scatter",
         "x": [
          -1.4124303675609742,
          -3.4417071389664433,
          -3.4417071389664433,
          -1.6854949570662754
         ],
         "xaxis": "x",
         "y": [
          390.9375,
          390.9375,
          494.6875,
          494.6875
         ],
         "yaxis": "y"
        },
        {
         "hoverinfo": "text",
         "marker": {
          "color": "rgb(255,65,54)"
         },
         "mode": "lines",
         "type": "scatter",
         "x": [
          -2.0365787023352193,
          -4.414451408517917,
          -4.414451408517917,
          -3.4417071389664433
         ],
         "xaxis": "x",
         "y": [
          267.5,
          267.5,
          442.8125,
          442.8125
         ],
         "yaxis": "y"
        },
        {
         "hoverinfo": "text",
         "marker": {
          "color": "rgb(0,116,217)"
         },
         "mode": "lines",
         "type": "scatter",
         "x": [
          -3.6003428615724853,
          -16.282344979184508,
          -16.282344979184508,
          -4.414451408517917
         ],
         "xaxis": "x",
         "y": [
          43.59375,
          43.59375,
          355.15625,
          355.15625
         ],
         "yaxis": "y"
        }
       ],
       "layout": {
        "autosize": false,
        "height": 800,
        "hovermode": "closest",
        "showlegend": false,
        "template": {
         "data": {
          "bar": [
           {
            "error_x": {
             "color": "#2a3f5f"
            },
            "error_y": {
             "color": "#2a3f5f"
            },
            "marker": {
             "line": {
              "color": "#E5ECF6",
              "width": 0.5
             },
             "pattern": {
              "fillmode": "overlay",
              "size": 10,
              "solidity": 0.2
             }
            },
            "type": "bar"
           }
          ],
          "barpolar": [
           {
            "marker": {
             "line": {
              "color": "#E5ECF6",
              "width": 0.5
             },
             "pattern": {
              "fillmode": "overlay",
              "size": 10,
              "solidity": 0.2
             }
            },
            "type": "barpolar"
           }
          ],
          "carpet": [
           {
            "aaxis": {
             "endlinecolor": "#2a3f5f",
             "gridcolor": "white",
             "linecolor": "white",
             "minorgridcolor": "white",
             "startlinecolor": "#2a3f5f"
            },
            "baxis": {
             "endlinecolor": "#2a3f5f",
             "gridcolor": "white",
             "linecolor": "white",
             "minorgridcolor": "white",
             "startlinecolor": "#2a3f5f"
            },
            "type": "carpet"
           }
          ],
          "choropleth": [
           {
            "colorbar": {
             "outlinewidth": 0,
             "ticks": ""
            },
            "type": "choropleth"
           }
          ],
          "contour": [
           {
            "colorbar": {
             "outlinewidth": 0,
             "ticks": ""
            },
            "colorscale": [
             [
              0,
              "#0d0887"
             ],
             [
              0.1111111111111111,
              "#46039f"
             ],
             [
              0.2222222222222222,
              "#7201a8"
             ],
             [
              0.3333333333333333,
              "#9c179e"
             ],
             [
              0.4444444444444444,
              "#bd3786"
             ],
             [
              0.5555555555555556,
              "#d8576b"
             ],
             [
              0.6666666666666666,
              "#ed7953"
             ],
             [
              0.7777777777777778,
              "#fb9f3a"
             ],
             [
              0.8888888888888888,
              "#fdca26"
             ],
             [
              1,
              "#f0f921"
             ]
            ],
            "type": "contour"
           }
          ],
          "contourcarpet": [
           {
            "colorbar": {
             "outlinewidth": 0,
             "ticks": ""
            },
            "type": "contourcarpet"
           }
          ],
          "heatmap": [
           {
            "colorbar": {
             "outlinewidth": 0,
             "ticks": ""
            },
            "colorscale": [
             [
              0,
              "#0d0887"
             ],
             [
              0.1111111111111111,
              "#46039f"
             ],
             [
              0.2222222222222222,
              "#7201a8"
             ],
             [
              0.3333333333333333,
              "#9c179e"
             ],
             [
              0.4444444444444444,
              "#bd3786"
             ],
             [
              0.5555555555555556,
              "#d8576b"
             ],
             [
              0.6666666666666666,
              "#ed7953"
             ],
             [
              0.7777777777777778,
              "#fb9f3a"
             ],
             [
              0.8888888888888888,
              "#fdca26"
             ],
             [
              1,
              "#f0f921"
             ]
            ],
            "type": "heatmap"
           }
          ],
          "heatmapgl": [
           {
            "colorbar": {
             "outlinewidth": 0,
             "ticks": ""
            },
            "colorscale": [
             [
              0,
              "#0d0887"
             ],
             [
              0.1111111111111111,
              "#46039f"
             ],
             [
              0.2222222222222222,
              "#7201a8"
             ],
             [
              0.3333333333333333,
              "#9c179e"
             ],
             [
              0.4444444444444444,
              "#bd3786"
             ],
             [
              0.5555555555555556,
              "#d8576b"
             ],
             [
              0.6666666666666666,
              "#ed7953"
             ],
             [
              0.7777777777777778,
              "#fb9f3a"
             ],
             [
              0.8888888888888888,
              "#fdca26"
             ],
             [
              1,
              "#f0f921"
             ]
            ],
            "type": "heatmapgl"
           }
          ],
          "histogram": [
           {
            "marker": {
             "pattern": {
              "fillmode": "overlay",
              "size": 10,
              "solidity": 0.2
             }
            },
            "type": "histogram"
           }
          ],
          "histogram2d": [
           {
            "colorbar": {
             "outlinewidth": 0,
             "ticks": ""
            },
            "colorscale": [
             [
              0,
              "#0d0887"
             ],
             [
              0.1111111111111111,
              "#46039f"
             ],
             [
              0.2222222222222222,
              "#7201a8"
             ],
             [
              0.3333333333333333,
              "#9c179e"
             ],
             [
              0.4444444444444444,
              "#bd3786"
             ],
             [
              0.5555555555555556,
              "#d8576b"
             ],
             [
              0.6666666666666666,
              "#ed7953"
             ],
             [
              0.7777777777777778,
              "#fb9f3a"
             ],
             [
              0.8888888888888888,
              "#fdca26"
             ],
             [
              1,
              "#f0f921"
             ]
            ],
            "type": "histogram2d"
           }
          ],
          "histogram2dcontour": [
           {
            "colorbar": {
             "outlinewidth": 0,
             "ticks": ""
            },
            "colorscale": [
             [
              0,
              "#0d0887"
             ],
             [
              0.1111111111111111,
              "#46039f"
             ],
             [
              0.2222222222222222,
              "#7201a8"
             ],
             [
              0.3333333333333333,
              "#9c179e"
             ],
             [
              0.4444444444444444,
              "#bd3786"
             ],
             [
              0.5555555555555556,
              "#d8576b"
             ],
             [
              0.6666666666666666,
              "#ed7953"
             ],
             [
              0.7777777777777778,
              "#fb9f3a"
             ],
             [
              0.8888888888888888,
              "#fdca26"
             ],
             [
              1,
              "#f0f921"
             ]
            ],
            "type": "histogram2dcontour"
           }
          ],
          "mesh3d": [
           {
            "colorbar": {
             "outlinewidth": 0,
             "ticks": ""
            },
            "type": "mesh3d"
           }
          ],
          "parcoords": [
           {
            "line": {
             "colorbar": {
              "outlinewidth": 0,
              "ticks": ""
             }
            },
            "type": "parcoords"
           }
          ],
          "pie": [
           {
            "automargin": true,
            "type": "pie"
           }
          ],
          "scatter": [
           {
            "marker": {
             "colorbar": {
              "outlinewidth": 0,
              "ticks": ""
             }
            },
            "type": "scatter"
           }
          ],
          "scatter3d": [
           {
            "line": {
             "colorbar": {
              "outlinewidth": 0,
              "ticks": ""
             }
            },
            "marker": {
             "colorbar": {
              "outlinewidth": 0,
              "ticks": ""
             }
            },
            "type": "scatter3d"
           }
          ],
          "scattercarpet": [
           {
            "marker": {
             "colorbar": {
              "outlinewidth": 0,
              "ticks": ""
             }
            },
            "type": "scattercarpet"
           }
          ],
          "scattergeo": [
           {
            "marker": {
             "colorbar": {
              "outlinewidth": 0,
              "ticks": ""
             }
            },
            "type": "scattergeo"
           }
          ],
          "scattergl": [
           {
            "marker": {
             "colorbar": {
              "outlinewidth": 0,
              "ticks": ""
             }
            },
            "type": "scattergl"
           }
          ],
          "scattermapbox": [
           {
            "marker": {
             "colorbar": {
              "outlinewidth": 0,
              "ticks": ""
             }
            },
            "type": "scattermapbox"
           }
          ],
          "scatterpolar": [
           {
            "marker": {
             "colorbar": {
              "outlinewidth": 0,
              "ticks": ""
             }
            },
            "type": "scatterpolar"
           }
          ],
          "scatterpolargl": [
           {
            "marker": {
             "colorbar": {
              "outlinewidth": 0,
              "ticks": ""
             }
            },
            "type": "scatterpolargl"
           }
          ],
          "scatterternary": [
           {
            "marker": {
             "colorbar": {
              "outlinewidth": 0,
              "ticks": ""
             }
            },
            "type": "scatterternary"
           }
          ],
          "surface": [
           {
            "colorbar": {
             "outlinewidth": 0,
             "ticks": ""
            },
            "colorscale": [
             [
              0,
              "#0d0887"
             ],
             [
              0.1111111111111111,
              "#46039f"
             ],
             [
              0.2222222222222222,
              "#7201a8"
             ],
             [
              0.3333333333333333,
              "#9c179e"
             ],
             [
              0.4444444444444444,
              "#bd3786"
             ],
             [
              0.5555555555555556,
              "#d8576b"
             ],
             [
              0.6666666666666666,
              "#ed7953"
             ],
             [
              0.7777777777777778,
              "#fb9f3a"
             ],
             [
              0.8888888888888888,
              "#fdca26"
             ],
             [
              1,
              "#f0f921"
             ]
            ],
            "type": "surface"
           }
          ],
          "table": [
           {
            "cells": {
             "fill": {
              "color": "#EBF0F8"
             },
             "line": {
              "color": "white"
             }
            },
            "header": {
             "fill": {
              "color": "#C8D4E3"
             },
             "line": {
              "color": "white"
             }
            },
            "type": "table"
           }
          ]
         },
         "layout": {
          "annotationdefaults": {
           "arrowcolor": "#2a3f5f",
           "arrowhead": 0,
           "arrowwidth": 1
          },
          "autotypenumbers": "strict",
          "coloraxis": {
           "colorbar": {
            "outlinewidth": 0,
            "ticks": ""
           }
          },
          "colorscale": {
           "diverging": [
            [
             0,
             "#8e0152"
            ],
            [
             0.1,
             "#c51b7d"
            ],
            [
             0.2,
             "#de77ae"
            ],
            [
             0.3,
             "#f1b6da"
            ],
            [
             0.4,
             "#fde0ef"
            ],
            [
             0.5,
             "#f7f7f7"
            ],
            [
             0.6,
             "#e6f5d0"
            ],
            [
             0.7,
             "#b8e186"
            ],
            [
             0.8,
             "#7fbc41"
            ],
            [
             0.9,
             "#4d9221"
            ],
            [
             1,
             "#276419"
            ]
           ],
           "sequential": [
            [
             0,
             "#0d0887"
            ],
            [
             0.1111111111111111,
             "#46039f"
            ],
            [
             0.2222222222222222,
             "#7201a8"
            ],
            [
             0.3333333333333333,
             "#9c179e"
            ],
            [
             0.4444444444444444,
             "#bd3786"
            ],
            [
             0.5555555555555556,
             "#d8576b"
            ],
            [
             0.6666666666666666,
             "#ed7953"
            ],
            [
             0.7777777777777778,
             "#fb9f3a"
            ],
            [
             0.8888888888888888,
             "#fdca26"
            ],
            [
             1,
             "#f0f921"
            ]
           ],
           "sequentialminus": [
            [
             0,
             "#0d0887"
            ],
            [
             0.1111111111111111,
             "#46039f"
            ],
            [
             0.2222222222222222,
             "#7201a8"
            ],
            [
             0.3333333333333333,
             "#9c179e"
            ],
            [
             0.4444444444444444,
             "#bd3786"
            ],
            [
             0.5555555555555556,
             "#d8576b"
            ],
            [
             0.6666666666666666,
             "#ed7953"
            ],
            [
             0.7777777777777778,
             "#fb9f3a"
            ],
            [
             0.8888888888888888,
             "#fdca26"
            ],
            [
             1,
             "#f0f921"
            ]
           ]
          },
          "colorway": [
           "#636efa",
           "#EF553B",
           "#00cc96",
           "#ab63fa",
           "#FFA15A",
           "#19d3f3",
           "#FF6692",
           "#B6E880",
           "#FF97FF",
           "#FECB52"
          ],
          "font": {
           "color": "#2a3f5f"
          },
          "geo": {
           "bgcolor": "white",
           "lakecolor": "white",
           "landcolor": "#E5ECF6",
           "showlakes": true,
           "showland": true,
           "subunitcolor": "white"
          },
          "hoverlabel": {
           "align": "left"
          },
          "hovermode": "closest",
          "mapbox": {
           "style": "light"
          },
          "paper_bgcolor": "white",
          "plot_bgcolor": "#E5ECF6",
          "polar": {
           "angularaxis": {
            "gridcolor": "white",
            "linecolor": "white",
            "ticks": ""
           },
           "bgcolor": "#E5ECF6",
           "radialaxis": {
            "gridcolor": "white",
            "linecolor": "white",
            "ticks": ""
           }
          },
          "scene": {
           "xaxis": {
            "backgroundcolor": "#E5ECF6",
            "gridcolor": "white",
            "gridwidth": 2,
            "linecolor": "white",
            "showbackground": true,
            "ticks": "",
            "zerolinecolor": "white"
           },
           "yaxis": {
            "backgroundcolor": "#E5ECF6",
            "gridcolor": "white",
            "gridwidth": 2,
            "linecolor": "white",
            "showbackground": true,
            "ticks": "",
            "zerolinecolor": "white"
           },
           "zaxis": {
            "backgroundcolor": "#E5ECF6",
            "gridcolor": "white",
            "gridwidth": 2,
            "linecolor": "white",
            "showbackground": true,
            "ticks": "",
            "zerolinecolor": "white"
           }
          },
          "shapedefaults": {
           "line": {
            "color": "#2a3f5f"
           }
          },
          "ternary": {
           "aaxis": {
            "gridcolor": "white",
            "linecolor": "white",
            "ticks": ""
           },
           "baxis": {
            "gridcolor": "white",
            "linecolor": "white",
            "ticks": ""
           },
           "bgcolor": "#E5ECF6",
           "caxis": {
            "gridcolor": "white",
            "linecolor": "white",
            "ticks": ""
           }
          },
          "title": {
           "x": 0.05
          },
          "xaxis": {
           "automargin": true,
           "gridcolor": "white",
           "linecolor": "white",
           "ticks": "",
           "title": {
            "standoff": 15
           },
           "zerolinecolor": "white",
           "zerolinewidth": 2
          },
          "yaxis": {
           "automargin": true,
           "gridcolor": "white",
           "linecolor": "white",
           "ticks": "",
           "title": {
            "standoff": 15
           },
           "zerolinecolor": "white",
           "zerolinewidth": 2
          }
         }
        },
        "width": 800,
        "xaxis": {
         "mirror": "allticks",
         "rangemode": "tozero",
         "showgrid": false,
         "showline": true,
         "showticklabels": true,
         "ticks": "outside",
         "type": "linear",
         "zeroline": false
        },
        "yaxis": {
         "mirror": "allticks",
         "rangemode": "tozero",
         "showgrid": false,
         "showline": true,
         "showticklabels": true,
         "tickmode": "array",
         "ticks": "outside",
         "ticktext": [
          "千顷堂书目",
          "三国史记",
          "三国志",
          "十六国春秋",
          "资治通鉴",
          "元代奏议集录",
          "江南野史",
          "三国演义",
          "刑案汇览三编",
          "东华续录选辑",
          "清史稿",
          "元史",
          "明史",
          "云麓漫钞",
          "明清徽商资料选编",
          "明实录孝宗实录",
          "明实录神宗实录",
          "宋书",
          "东南纪事",
          "四喜记",
          "昙花记",
          "运甓记",
          "香囊记",
          "紫钗记",
          "紫箫记",
          "黄氏宝卷",
          "玉合记",
          "西厢记",
          "蓝公案",
          "包公案",
          "西湖二集",
          "唐朝开国演义",
          "梁皇宝卷",
          "鱼篮宝卷",
          "清代宫廷艳史",
          "明代宫闱史",
          "红楼复梦",
          "小五义",
          "红楼梦",
          "江湖奇侠传",
          "金瓶梅词话万历本",
          "金瓶梅",
          "西游记补",
          "西游记",
          "定情人",
          "梦中缘",
          "清朝秘史",
          "媚史",
          "隋唐演义",
          "喻世明言",
          "痛史",
          "三侠五义",
          "梼杌闲评",
          "水浒传",
          "水浒后传",
          "七剑十三侠"
         ],
         "tickvals": [
          5,
          15,
          25,
          35,
          45,
          55,
          65,
          75,
          85,
          95,
          105,
          115,
          125,
          135,
          145,
          155,
          165,
          175,
          185,
          195,
          205,
          215,
          225,
          235,
          245,
          255,
          265,
          275,
          285,
          295,
          305,
          315,
          325,
          335,
          345,
          355,
          365,
          375,
          385,
          395,
          405,
          415,
          425,
          435,
          445,
          455,
          465,
          475,
          485,
          495,
          505,
          515,
          525,
          535,
          545,
          555
         ],
         "type": "linear",
         "zeroline": false
        },
        "yaxis2": {
         "showticklabels": true,
         "ticks": ""
        }
       }
      },
      "text/html": [
       "<div>                            <div id=\"e0da1111-1903-472d-bce3-9cdbc485b3ae\" class=\"plotly-graph-div\" style=\"height:800px; width:800px;\"></div>            <script type=\"text/javascript\">                require([\"plotly\"], function(Plotly) {                    window.PLOTLYENV=window.PLOTLYENV || {};                                    if (document.getElementById(\"e0da1111-1903-472d-bce3-9cdbc485b3ae\")) {                    Plotly.newPlot(                        \"e0da1111-1903-472d-bce3-9cdbc485b3ae\",                        [{\"hoverinfo\":\"text\",\"marker\":{\"color\":\"rgb(61,153,112)\"},\"mode\":\"lines\",\"x\":[-0.0,-1.3356867871294575,-1.3356867871294575,-0.0],\"xaxis\":\"x\",\"y\":[5.0,5.0,15.0,15.0],\"yaxis\":\"y\",\"type\":\"scatter\"},{\"hoverinfo\":\"text\",\"marker\":{\"color\":\"rgb(61,153,112)\"},\"mode\":\"lines\",\"x\":[-0.0,-0.3363552928259562,-0.3363552928259562,-0.0],\"xaxis\":\"x\",\"y\":[35.0,35.0,45.0,45.0],\"yaxis\":\"y\",\"type\":\"scatter\"},{\"hoverinfo\":\"text\",\"marker\":{\"color\":\"rgb(61,153,112)\"},\"mode\":\"lines\",\"x\":[-0.0,-0.441218020942909,-0.441218020942909,-0.3363552928259562],\"xaxis\":\"x\",\"y\":[25.0,25.0,40.0,40.0],\"yaxis\":\"y\",\"type\":\"scatter\"},{\"hoverinfo\":\"text\",\"marker\":{\"color\":\"rgb(61,153,112)\"},\"mode\":\"lines\",\"x\":[-0.0,-0.5954783742564366,-0.5954783742564366,-0.0],\"xaxis\":\"x\",\"y\":[55.0,55.0,65.0,65.0],\"yaxis\":\"y\",\"type\":\"scatter\"},{\"hoverinfo\":\"text\",\"marker\":{\"color\":\"rgb(61,153,112)\"},\"mode\":\"lines\",\"x\":[-0.441218020942909,-0.9810134716815513,-0.9810134716815513,-0.5954783742564366],\"xaxis\":\"x\",\"y\":[32.5,32.5,60.0,60.0],\"yaxis\":\"y\",\"type\":\"scatter\"},{\"hoverinfo\":\"text\",\"marker\":{\"color\":\"rgb(61,153,112)\"},\"mode\":\"lines\",\"x\":[-0.0,-0.9317007350429,-0.9317007350429,-0.0],\"xaxis\":\"x\",\"y\":[85.0,85.0,95.0,95.0],\"yaxis\":\"y\",\"type\":\"scatter\"},{\"hoverinfo\":\"text\",\"marker\":{\"color\":\"rgb(61,153,112)\"},\"mode\":\"lines\",\"x\":[-0.0,-1.2951584315859224,-1.2951584315859224,-0.9317007350429],\"xaxis\":\"x\",\"y\":[75.0,75.0,90.0,90.0],\"yaxis\":\"y\",\"type\":\"scatter\"},{\"hoverinfo\":\"text\",\"marker\":{\"color\":\"rgb(61,153,112)\"},\"mode\":\"lines\",\"x\":[-0.0,-0.42912456996338155,-0.42912456996338155,-0.0],\"xaxis\":\"x\",\"y\":[115.0,115.0,125.0,125.0],\"yaxis\":\"y\",\"type\":\"scatter\"},{\"hoverinfo\":\"text\",\"marker\":{\"color\":\"rgb(61,153,112)\"},\"mode\":\"lines\",\"x\":[-0.0,-0.6973982985212696,-0.6973982985212696,-0.42912456996338155],\"xaxis\":\"x\",\"y\":[105.0,105.0,120.0,120.0],\"yaxis\":\"y\",\"type\":\"scatter\"},{\"hoverinfo\":\"text\",\"marker\":{\"color\":\"rgb(61,153,112)\"},\"mode\":\"lines\",\"x\":[-0.0,-0.5561059525500257,-0.5561059525500257,-0.0],\"xaxis\":\"x\",\"y\":[135.0,135.0,145.0,145.0],\"yaxis\":\"y\",\"type\":\"scatter\"},{\"hoverinfo\":\"text\",\"marker\":{\"color\":\"rgb(61,153,112)\"},\"mode\":\"lines\",\"x\":[-0.0,-0.4592499289804087,-0.4592499289804087,-0.0],\"xaxis\":\"x\",\"y\":[155.0,155.0,165.0,165.0],\"yaxis\":\"y\",\"type\":\"scatter\"},{\"hoverinfo\":\"text\",\"marker\":{\"color\":\"rgb(61,153,112)\"},\"mode\":\"lines\",\"x\":[-0.0,-0.7423189946705694,-0.7423189946705694,-0.0],\"xaxis\":\"x\",\"y\":[175.0,175.0,185.0,185.0],\"yaxis\":\"y\",\"type\":\"scatter\"},{\"hoverinfo\":\"text\",\"marker\":{\"color\":\"rgb(61,153,112)\"},\"mode\":\"lines\",\"x\":[-0.4592499289804087,-0.8995039499739769,-0.8995039499739769,-0.7423189946705694],\"xaxis\":\"x\",\"y\":[160.0,160.0,180.0,180.0],\"yaxis\":\"y\",\"type\":\"scatter\"},{\"hoverinfo\":\"text\",\"marker\":{\"color\":\"rgb(61,153,112)\"},\"mode\":\"lines\",\"x\":[-0.5561059525500257,-1.0569809379143345,-1.0569809379143345,-0.8995039499739769],\"xaxis\":\"x\",\"y\":[140.0,140.0,170.0,170.0],\"yaxis\":\"y\",\"type\":\"scatter\"},{\"hoverinfo\":\"text\",\"marker\":{\"color\":\"rgb(61,153,112)\"},\"mode\":\"lines\",\"x\":[-0.6973982985212696,-1.336931350412998,-1.336931350412998,-1.0569809379143345],\"xaxis\":\"x\",\"y\":[112.5,112.5,155.0,155.0],\"yaxis\":\"y\",\"type\":\"scatter\"},{\"hoverinfo\":\"text\",\"marker\":{\"color\":\"rgb(61,153,112)\"},\"mode\":\"lines\",\"x\":[-1.2951584315859224,-1.889066519155141,-1.889066519155141,-1.336931350412998],\"xaxis\":\"x\",\"y\":[82.5,82.5,133.75,133.75],\"yaxis\":\"y\",\"type\":\"scatter\"},{\"hoverinfo\":\"text\",\"marker\":{\"color\":\"rgb(61,153,112)\"},\"mode\":\"lines\",\"x\":[-0.9810134716815513,-2.1726962514589743,-2.1726962514589743,-1.889066519155141],\"xaxis\":\"x\",\"y\":[46.25,46.25,108.125,108.125],\"yaxis\":\"y\",\"type\":\"scatter\"},{\"hoverinfo\":\"text\",\"marker\":{\"color\":\"rgb(61,153,112)\"},\"mode\":\"lines\",\"x\":[-1.3356867871294575,-3.6003428615724853,-3.6003428615724853,-2.1726962514589743],\"xaxis\":\"x\",\"y\":[10.0,10.0,77.1875,77.1875],\"yaxis\":\"y\",\"type\":\"scatter\"},{\"hoverinfo\":\"text\",\"marker\":{\"color\":\"rgb(255,65,54)\"},\"mode\":\"lines\",\"x\":[-0.0,-0.4377199098242829,-0.4377199098242829,-0.0],\"xaxis\":\"x\",\"y\":[215.0,215.0,225.0,225.0],\"yaxis\":\"y\",\"type\":\"scatter\"},{\"hoverinfo\":\"text\",\"marker\":{\"color\":\"rgb(255,65,54)\"},\"mode\":\"lines\",\"x\":[-0.0,-0.5258998873901156,-0.5258998873901156,-0.4377199098242829],\"xaxis\":\"x\",\"y\":[205.0,205.0,220.0,220.0],\"yaxis\":\"y\",\"type\":\"scatter\"},{\"hoverinfo\":\"text\",\"marker\":{\"color\":\"rgb(255,65,54)\"},\"mode\":\"lines\",\"x\":[-0.0,-0.594218379651654,-0.594218379651654,-0.5258998873901156],\"xaxis\":\"x\",\"y\":[195.0,195.0,212.5,212.5],\"yaxis\":\"y\",\"type\":\"scatter\"},{\"hoverinfo\":\"text\",\"marker\":{\"color\":\"rgb(255,65,54)\"},\"mode\":\"lines\",\"x\":[-0.0,-0.6100999016986952,-0.6100999016986952,-0.0],\"xaxis\":\"x\",\"y\":[235.0,235.0,245.0,245.0],\"yaxis\":\"y\",\"type\":\"scatter\"},{\"hoverinfo\":\"text\",\"marker\":{\"color\":\"rgb(255,65,54)\"},\"mode\":\"lines\",\"x\":[-0.0,-0.7143167404390158,-0.7143167404390158,-0.0],\"xaxis\":\"x\",\"y\":[265.0,265.0,275.0,275.0],\"yaxis\":\"y\",\"type\":\"scatter\"},{\"hoverinfo\":\"text\",\"marker\":{\"color\":\"rgb(255,65,54)\"},\"mode\":\"lines\",\"x\":[-0.0,-0.741917495158671,-0.741917495158671,-0.7143167404390158],\"xaxis\":\"x\",\"y\":[255.0,255.0,270.0,270.0],\"yaxis\":\"y\",\"type\":\"scatter\"},{\"hoverinfo\":\"text\",\"marker\":{\"color\":\"rgb(255,65,54)\"},\"mode\":\"lines\",\"x\":[-0.6100999016986952,-1.0345027957442479,-1.0345027957442479,-0.741917495158671],\"xaxis\":\"x\",\"y\":[240.0,240.0,262.5,262.5],\"yaxis\":\"y\",\"type\":\"scatter\"},{\"hoverinfo\":\"text\",\"marker\":{\"color\":\"rgb(255,65,54)\"},\"mode\":\"lines\",\"x\":[-0.594218379651654,-1.3176949795935509,-1.3176949795935509,-1.0345027957442479],\"xaxis\":\"x\",\"y\":[203.75,203.75,251.25,251.25],\"yaxis\":\"y\",\"type\":\"scatter\"},{\"hoverinfo\":\"text\",\"marker\":{\"color\":\"rgb(255,65,54)\"},\"mode\":\"lines\",\"x\":[-0.0,-0.5860527526163789,-0.5860527526163789,-0.0],\"xaxis\":\"x\",\"y\":[295.0,295.0,305.0,305.0],\"yaxis\":\"y\",\"type\":\"scatter\"},{\"hoverinfo\":\"text\",\"marker\":{\"color\":\"rgb(255,65,54)\"},\"mode\":\"lines\",\"x\":[-0.0,-0.9198014540331166,-0.9198014540331166,-0.5860527526163789],\"xaxis\":\"x\",\"y\":[285.0,285.0,300.0,300.0],\"yaxis\":\"y\",\"type\":\"scatter\"},{\"hoverinfo\":\"text\",\"marker\":{\"color\":\"rgb(255,65,54)\"},\"mode\":\"lines\",\"x\":[-0.0,-0.8122948733688632,-0.8122948733688632,-0.0],\"xaxis\":\"x\",\"y\":[325.0,325.0,335.0,335.0],\"yaxis\":\"y\",\"type\":\"scatter\"},{\"hoverinfo\":\"text\",\"marker\":{\"color\":\"rgb(255,65,54)\"},\"mode\":\"lines\",\"x\":[-0.0,-1.2353239060658205,-1.2353239060658205,-0.8122948733688632],\"xaxis\":\"x\",\"y\":[315.0,315.0,330.0,330.0],\"yaxis\":\"y\",\"type\":\"scatter\"},{\"hoverinfo\":\"text\",\"marker\":{\"color\":\"rgb(255,65,54)\"},\"mode\":\"lines\",\"x\":[-0.9198014540331166,-1.7410786154483753,-1.7410786154483753,-1.2353239060658205],\"xaxis\":\"x\",\"y\":[292.5,292.5,322.5,322.5],\"yaxis\":\"y\",\"type\":\"scatter\"},{\"hoverinfo\":\"text\",\"marker\":{\"color\":\"rgb(255,65,54)\"},\"mode\":\"lines\",\"x\":[-1.3176949795935509,-2.0365787023352193,-2.0365787023352193,-1.7410786154483753],\"xaxis\":\"x\",\"y\":[227.5,227.5,307.5,307.5],\"yaxis\":\"y\",\"type\":\"scatter\"},{\"hoverinfo\":\"text\",\"marker\":{\"color\":\"rgb(255,65,54)\"},\"mode\":\"lines\",\"x\":[-0.0,-0.38488686982570547,-0.38488686982570547,-0.0],\"xaxis\":\"x\",\"y\":[345.0,345.0,355.0,355.0],\"yaxis\":\"y\",\"type\":\"scatter\"},{\"hoverinfo\":\"text\",\"marker\":{\"color\":\"rgb(255,65,54)\"},\"mode\":\"lines\",\"x\":[-0.0,-0.592506120021375,-0.592506120021375,-0.0],\"xaxis\":\"x\",\"y\":[385.0,385.0,395.0,395.0],\"yaxis\":\"y\",\"type\":\"scatter\"},{\"hoverinfo\":\"text\",\"marker\":{\"color\":\"rgb(255,65,54)\"},\"mode\":\"lines\",\"x\":[-0.0,-0.6727486529421689,-0.6727486529421689,-0.592506120021375],\"xaxis\":\"x\",\"y\":[375.0,375.0,390.0,390.0],\"yaxis\":\"y\",\"type\":\"scatter\"},{\"hoverinfo\":\"text\",\"marker\":{\"color\":\"rgb(255,65,54)\"},\"mode\":\"lines\",\"x\":[-0.0,-0.7719199663339232,-0.7719199663339232,-0.6727486529421689],\"xaxis\":\"x\",\"y\":[365.0,365.0,382.5,382.5],\"yaxis\":\"y\",\"type\":\"scatter\"},{\"hoverinfo\":\"text\",\"marker\":{\"color\":\"rgb(255,65,54)\"},\"mode\":\"lines\",\"x\":[-0.38488686982570547,-1.0097515994277007,-1.0097515994277007,-0.7719199663339232],\"xaxis\":\"x\",\"y\":[350.0,350.0,373.75,373.75],\"yaxis\":\"y\",\"type\":\"scatter\"},{\"hoverinfo\":\"text\",\"marker\":{\"color\":\"rgb(255,65,54)\"},\"mode\":\"lines\",\"x\":[-0.0,-0.0680280615573004,-0.0680280615573004,-0.0],\"xaxis\":\"x\",\"y\":[405.0,405.0,415.0,415.0],\"yaxis\":\"y\",\"type\":\"scatter\"},{\"hoverinfo\":\"text\",\"marker\":{\"color\":\"rgb(255,65,54)\"},\"mode\":\"lines\",\"x\":[-0.0,-0.4161512624050761,-0.4161512624050761,-0.0],\"xaxis\":\"x\",\"y\":[425.0,425.0,435.0,435.0],\"yaxis\":\"y\",\"type\":\"scatter\"},{\"hoverinfo\":\"text\",\"marker\":{\"color\":\"rgb(255,65,54)\"},\"mode\":\"lines\",\"x\":[-0.0680280615573004,-1.2915427021461823,-1.2915427021461823,-0.4161512624050761],\"xaxis\":\"x\",\"y\":[410.0,410.0,430.0,430.0],\"yaxis\":\"y\",\"type\":\"scatter\"},{\"hoverinfo\":\"text\",\"marker\":{\"color\":\"rgb(255,65,54)\"},\"mode\":\"lines\",\"x\":[-1.0097515994277007,-1.4124303675609742,-1.4124303675609742,-1.2915427021461823],\"xaxis\":\"x\",\"y\":[361.875,361.875,420.0,420.0],\"yaxis\":\"y\",\"type\":\"scatter\"},{\"hoverinfo\":\"text\",\"marker\":{\"color\":\"rgb(255,65,54)\"},\"mode\":\"lines\",\"x\":[-0.0,-0.41742246878827205,-0.41742246878827205,-0.0],\"xaxis\":\"x\",\"y\":[445.0,445.0,455.0,455.0],\"yaxis\":\"y\",\"type\":\"scatter\"},{\"hoverinfo\":\"text\",\"marker\":{\"color\":\"rgb(255,65,54)\"},\"mode\":\"lines\",\"x\":[-0.0,-0.335753756138199,-0.335753756138199,-0.0],\"xaxis\":\"x\",\"y\":[485.0,485.0,495.0,495.0],\"yaxis\":\"y\",\"type\":\"scatter\"},{\"hoverinfo\":\"text\",\"marker\":{\"color\":\"rgb(255,65,54)\"},\"mode\":\"lines\",\"x\":[-0.0,-0.627573595157154,-0.627573595157154,-0.335753756138199],\"xaxis\":\"x\",\"y\":[475.0,475.0,490.0,490.0],\"yaxis\":\"y\",\"type\":\"scatter\"},{\"hoverinfo\":\"text\",\"marker\":{\"color\":\"rgb(255,65,54)\"},\"mode\":\"lines\",\"x\":[-0.0,-0.6840022101818798,-0.6840022101818798,-0.627573595157154],\"xaxis\":\"x\",\"y\":[465.0,465.0,482.5,482.5],\"yaxis\":\"y\",\"type\":\"scatter\"},{\"hoverinfo\":\"text\",\"marker\":{\"color\":\"rgb(255,65,54)\"},\"mode\":\"lines\",\"x\":[-0.41742246878827205,-0.8252845596596591,-0.8252845596596591,-0.6840022101818798],\"xaxis\":\"x\",\"y\":[450.0,450.0,473.75,473.75],\"yaxis\":\"y\",\"type\":\"scatter\"},{\"hoverinfo\":\"text\",\"marker\":{\"color\":\"rgb(255,65,54)\"},\"mode\":\"lines\",\"x\":[-0.0,-0.4650912389870943,-0.4650912389870943,-0.0],\"xaxis\":\"x\",\"y\":[515.0,515.0,525.0,525.0],\"yaxis\":\"y\",\"type\":\"scatter\"},{\"hoverinfo\":\"text\",\"marker\":{\"color\":\"rgb(255,65,54)\"},\"mode\":\"lines\",\"x\":[-0.0,-0.5100204502175937,-0.5100204502175937,-0.4650912389870943],\"xaxis\":\"x\",\"y\":[505.0,505.0,520.0,520.0],\"yaxis\":\"y\",\"type\":\"scatter\"},{\"hoverinfo\":\"text\",\"marker\":{\"color\":\"rgb(255,65,54)\"},\"mode\":\"lines\",\"x\":[-0.0,-0.48390181067226073,-0.48390181067226073,-0.0],\"xaxis\":\"x\",\"y\":[545.0,545.0,555.0,555.0],\"yaxis\":\"y\",\"type\":\"scatter\"},{\"hoverinfo\":\"text\",\"marker\":{\"color\":\"rgb(255,65,54)\"},\"mode\":\"lines\",\"x\":[-0.0,-0.676506945240579,-0.676506945240579,-0.48390181067226073],\"xaxis\":\"x\",\"y\":[535.0,535.0,550.0,550.0],\"yaxis\":\"y\",\"type\":\"scatter\"},{\"hoverinfo\":\"text\",\"marker\":{\"color\":\"rgb(255,65,54)\"},\"mode\":\"lines\",\"x\":[-0.5100204502175937,-0.8912080367448446,-0.8912080367448446,-0.676506945240579],\"xaxis\":\"x\",\"y\":[512.5,512.5,542.5,542.5],\"yaxis\":\"y\",\"type\":\"scatter\"},{\"hoverinfo\":\"text\",\"marker\":{\"color\":\"rgb(255,65,54)\"},\"mode\":\"lines\",\"x\":[-0.8252845596596591,-1.6854949570662754,-1.6854949570662754,-0.8912080367448446],\"xaxis\":\"x\",\"y\":[461.875,461.875,527.5,527.5],\"yaxis\":\"y\",\"type\":\"scatter\"},{\"hoverinfo\":\"text\",\"marker\":{\"color\":\"rgb(255,65,54)\"},\"mode\":\"lines\",\"x\":[-1.4124303675609742,-3.4417071389664433,-3.4417071389664433,-1.6854949570662754],\"xaxis\":\"x\",\"y\":[390.9375,390.9375,494.6875,494.6875],\"yaxis\":\"y\",\"type\":\"scatter\"},{\"hoverinfo\":\"text\",\"marker\":{\"color\":\"rgb(255,65,54)\"},\"mode\":\"lines\",\"x\":[-2.0365787023352193,-4.414451408517917,-4.414451408517917,-3.4417071389664433],\"xaxis\":\"x\",\"y\":[267.5,267.5,442.8125,442.8125],\"yaxis\":\"y\",\"type\":\"scatter\"},{\"hoverinfo\":\"text\",\"marker\":{\"color\":\"rgb(0,116,217)\"},\"mode\":\"lines\",\"x\":[-3.6003428615724853,-16.282344979184508,-16.282344979184508,-4.414451408517917],\"xaxis\":\"x\",\"y\":[43.59375,43.59375,355.15625,355.15625],\"yaxis\":\"y\",\"type\":\"scatter\"}],                        {\"autosize\":false,\"height\":800,\"hovermode\":\"closest\",\"showlegend\":false,\"width\":800,\"xaxis\":{\"mirror\":\"allticks\",\"rangemode\":\"tozero\",\"showgrid\":false,\"showline\":true,\"showticklabels\":true,\"ticks\":\"outside\",\"type\":\"linear\",\"zeroline\":false},\"yaxis\":{\"mirror\":\"allticks\",\"rangemode\":\"tozero\",\"showgrid\":false,\"showline\":true,\"showticklabels\":true,\"tickmode\":\"array\",\"ticks\":\"outside\",\"ticktext\":[\"\\u5343\\u9877\\u5802\\u4e66\\u76ee\",\"\\u4e09\\u56fd\\u53f2\\u8bb0\",\"\\u4e09\\u56fd\\u5fd7\",\"\\u5341\\u516d\\u56fd\\u6625\\u79cb\",\"\\u8d44\\u6cbb\\u901a\\u9274\",\"\\u5143\\u4ee3\\u594f\\u8bae\\u96c6\\u5f55\",\"\\u6c5f\\u5357\\u91ce\\u53f2\",\"\\u4e09\\u56fd\\u6f14\\u4e49\",\"\\u5211\\u6848\\u6c47\\u89c8\\u4e09\\u7f16\",\"\\u4e1c\\u534e\\u7eed\\u5f55\\u9009\\u8f91\",\"\\u6e05\\u53f2\\u7a3f\",\"\\u5143\\u53f2\",\"\\u660e\\u53f2\",\"\\u4e91\\u9e93\\u6f2b\\u949e\",\"\\u660e\\u6e05\\u5fbd\\u5546\\u8d44\\u6599\\u9009\\u7f16\",\"\\u660e\\u5b9e\\u5f55\\u5b5d\\u5b97\\u5b9e\\u5f55\",\"\\u660e\\u5b9e\\u5f55\\u795e\\u5b97\\u5b9e\\u5f55\",\"\\u5b8b\\u4e66\",\"\\u4e1c\\u5357\\u7eaa\\u4e8b\",\"\\u56db\\u559c\\u8bb0\",\"\\u6619\\u82b1\\u8bb0\",\"\\u8fd0\\u7513\\u8bb0\",\"\\u9999\\u56ca\\u8bb0\",\"\\u7d2b\\u9497\\u8bb0\",\"\\u7d2b\\u7bab\\u8bb0\",\"\\u9ec4\\u6c0f\\u5b9d\\u5377\",\"\\u7389\\u5408\\u8bb0\",\"\\u897f\\u53a2\\u8bb0\",\"\\u84dd\\u516c\\u6848\",\"\\u5305\\u516c\\u6848\",\"\\u897f\\u6e56\\u4e8c\\u96c6\",\"\\u5510\\u671d\\u5f00\\u56fd\\u6f14\\u4e49\",\"\\u6881\\u7687\\u5b9d\\u5377\",\"\\u9c7c\\u7bee\\u5b9d\\u5377\",\"\\u6e05\\u4ee3\\u5bab\\u5ef7\\u8273\\u53f2\",\"\\u660e\\u4ee3\\u5bab\\u95f1\\u53f2\",\"\\u7ea2\\u697c\\u590d\\u68a6\",\"\\u5c0f\\u4e94\\u4e49\",\"\\u7ea2\\u697c\\u68a6\",\"\\u6c5f\\u6e56\\u5947\\u4fa0\\u4f20\",\"\\u91d1\\u74f6\\u6885\\u8bcd\\u8bdd\\u4e07\\u5386\\u672c\",\"\\u91d1\\u74f6\\u6885\",\"\\u897f\\u6e38\\u8bb0\\u8865\",\"\\u897f\\u6e38\\u8bb0\",\"\\u5b9a\\u60c5\\u4eba\",\"\\u68a6\\u4e2d\\u7f18\",\"\\u6e05\\u671d\\u79d8\\u53f2\",\"\\u5a9a\\u53f2\",\"\\u968b\\u5510\\u6f14\\u4e49\",\"\\u55bb\\u4e16\\u660e\\u8a00\",\"\\u75db\\u53f2\",\"\\u4e09\\u4fa0\\u4e94\\u4e49\",\"\\u68bc\\u674c\\u95f2\\u8bc4\",\"\\u6c34\\u6d52\\u4f20\",\"\\u6c34\\u6d52\\u540e\\u4f20\",\"\\u4e03\\u5251\\u5341\\u4e09\\u4fa0\"],\"tickvals\":[5.0,15.0,25.0,35.0,45.0,55.0,65.0,75.0,85.0,95.0,105.0,115.0,125.0,135.0,145.0,155.0,165.0,175.0,185.0,195.0,205.0,215.0,225.0,235.0,245.0,255.0,265.0,275.0,285.0,295.0,305.0,315.0,325.0,335.0,345.0,355.0,365.0,375.0,385.0,395.0,405.0,415.0,425.0,435.0,445.0,455.0,465.0,475.0,485.0,495.0,505.0,515.0,525.0,535.0,545.0,555.0],\"type\":\"linear\",\"zeroline\":false},\"template\":{\"data\":{\"bar\":[{\"error_x\":{\"color\":\"#2a3f5f\"},\"error_y\":{\"color\":\"#2a3f5f\"},\"marker\":{\"line\":{\"color\":\"#E5ECF6\",\"width\":0.5},\"pattern\":{\"fillmode\":\"overlay\",\"size\":10,\"solidity\":0.2}},\"type\":\"bar\"}],\"barpolar\":[{\"marker\":{\"line\":{\"color\":\"#E5ECF6\",\"width\":0.5},\"pattern\":{\"fillmode\":\"overlay\",\"size\":10,\"solidity\":0.2}},\"type\":\"barpolar\"}],\"carpet\":[{\"aaxis\":{\"endlinecolor\":\"#2a3f5f\",\"gridcolor\":\"white\",\"linecolor\":\"white\",\"minorgridcolor\":\"white\",\"startlinecolor\":\"#2a3f5f\"},\"baxis\":{\"endlinecolor\":\"#2a3f5f\",\"gridcolor\":\"white\",\"linecolor\":\"white\",\"minorgridcolor\":\"white\",\"startlinecolor\":\"#2a3f5f\"},\"type\":\"carpet\"}],\"choropleth\":[{\"colorbar\":{\"outlinewidth\":0,\"ticks\":\"\"},\"type\":\"choropleth\"}],\"contour\":[{\"colorbar\":{\"outlinewidth\":0,\"ticks\":\"\"},\"colorscale\":[[0.0,\"#0d0887\"],[0.1111111111111111,\"#46039f\"],[0.2222222222222222,\"#7201a8\"],[0.3333333333333333,\"#9c179e\"],[0.4444444444444444,\"#bd3786\"],[0.5555555555555556,\"#d8576b\"],[0.6666666666666666,\"#ed7953\"],[0.7777777777777778,\"#fb9f3a\"],[0.8888888888888888,\"#fdca26\"],[1.0,\"#f0f921\"]],\"type\":\"contour\"}],\"contourcarpet\":[{\"colorbar\":{\"outlinewidth\":0,\"ticks\":\"\"},\"type\":\"contourcarpet\"}],\"heatmap\":[{\"colorbar\":{\"outlinewidth\":0,\"ticks\":\"\"},\"colorscale\":[[0.0,\"#0d0887\"],[0.1111111111111111,\"#46039f\"],[0.2222222222222222,\"#7201a8\"],[0.3333333333333333,\"#9c179e\"],[0.4444444444444444,\"#bd3786\"],[0.5555555555555556,\"#d8576b\"],[0.6666666666666666,\"#ed7953\"],[0.7777777777777778,\"#fb9f3a\"],[0.8888888888888888,\"#fdca26\"],[1.0,\"#f0f921\"]],\"type\":\"heatmap\"}],\"heatmapgl\":[{\"colorbar\":{\"outlinewidth\":0,\"ticks\":\"\"},\"colorscale\":[[0.0,\"#0d0887\"],[0.1111111111111111,\"#46039f\"],[0.2222222222222222,\"#7201a8\"],[0.3333333333333333,\"#9c179e\"],[0.4444444444444444,\"#bd3786\"],[0.5555555555555556,\"#d8576b\"],[0.6666666666666666,\"#ed7953\"],[0.7777777777777778,\"#fb9f3a\"],[0.8888888888888888,\"#fdca26\"],[1.0,\"#f0f921\"]],\"type\":\"heatmapgl\"}],\"histogram\":[{\"marker\":{\"pattern\":{\"fillmode\":\"overlay\",\"size\":10,\"solidity\":0.2}},\"type\":\"histogram\"}],\"histogram2d\":[{\"colorbar\":{\"outlinewidth\":0,\"ticks\":\"\"},\"colorscale\":[[0.0,\"#0d0887\"],[0.1111111111111111,\"#46039f\"],[0.2222222222222222,\"#7201a8\"],[0.3333333333333333,\"#9c179e\"],[0.4444444444444444,\"#bd3786\"],[0.5555555555555556,\"#d8576b\"],[0.6666666666666666,\"#ed7953\"],[0.7777777777777778,\"#fb9f3a\"],[0.8888888888888888,\"#fdca26\"],[1.0,\"#f0f921\"]],\"type\":\"histogram2d\"}],\"histogram2dcontour\":[{\"colorbar\":{\"outlinewidth\":0,\"ticks\":\"\"},\"colorscale\":[[0.0,\"#0d0887\"],[0.1111111111111111,\"#46039f\"],[0.2222222222222222,\"#7201a8\"],[0.3333333333333333,\"#9c179e\"],[0.4444444444444444,\"#bd3786\"],[0.5555555555555556,\"#d8576b\"],[0.6666666666666666,\"#ed7953\"],[0.7777777777777778,\"#fb9f3a\"],[0.8888888888888888,\"#fdca26\"],[1.0,\"#f0f921\"]],\"type\":\"histogram2dcontour\"}],\"mesh3d\":[{\"colorbar\":{\"outlinewidth\":0,\"ticks\":\"\"},\"type\":\"mesh3d\"}],\"parcoords\":[{\"line\":{\"colorbar\":{\"outlinewidth\":0,\"ticks\":\"\"}},\"type\":\"parcoords\"}],\"pie\":[{\"automargin\":true,\"type\":\"pie\"}],\"scatter\":[{\"marker\":{\"colorbar\":{\"outlinewidth\":0,\"ticks\":\"\"}},\"type\":\"scatter\"}],\"scatter3d\":[{\"line\":{\"colorbar\":{\"outlinewidth\":0,\"ticks\":\"\"}},\"marker\":{\"colorbar\":{\"outlinewidth\":0,\"ticks\":\"\"}},\"type\":\"scatter3d\"}],\"scattercarpet\":[{\"marker\":{\"colorbar\":{\"outlinewidth\":0,\"ticks\":\"\"}},\"type\":\"scattercarpet\"}],\"scattergeo\":[{\"marker\":{\"colorbar\":{\"outlinewidth\":0,\"ticks\":\"\"}},\"type\":\"scattergeo\"}],\"scattergl\":[{\"marker\":{\"colorbar\":{\"outlinewidth\":0,\"ticks\":\"\"}},\"type\":\"scattergl\"}],\"scattermapbox\":[{\"marker\":{\"colorbar\":{\"outlinewidth\":0,\"ticks\":\"\"}},\"type\":\"scattermapbox\"}],\"scatterpolar\":[{\"marker\":{\"colorbar\":{\"outlinewidth\":0,\"ticks\":\"\"}},\"type\":\"scatterpolar\"}],\"scatterpolargl\":[{\"marker\":{\"colorbar\":{\"outlinewidth\":0,\"ticks\":\"\"}},\"type\":\"scatterpolargl\"}],\"scatterternary\":[{\"marker\":{\"colorbar\":{\"outlinewidth\":0,\"ticks\":\"\"}},\"type\":\"scatterternary\"}],\"surface\":[{\"colorbar\":{\"outlinewidth\":0,\"ticks\":\"\"},\"colorscale\":[[0.0,\"#0d0887\"],[0.1111111111111111,\"#46039f\"],[0.2222222222222222,\"#7201a8\"],[0.3333333333333333,\"#9c179e\"],[0.4444444444444444,\"#bd3786\"],[0.5555555555555556,\"#d8576b\"],[0.6666666666666666,\"#ed7953\"],[0.7777777777777778,\"#fb9f3a\"],[0.8888888888888888,\"#fdca26\"],[1.0,\"#f0f921\"]],\"type\":\"surface\"}],\"table\":[{\"cells\":{\"fill\":{\"color\":\"#EBF0F8\"},\"line\":{\"color\":\"white\"}},\"header\":{\"fill\":{\"color\":\"#C8D4E3\"},\"line\":{\"color\":\"white\"}},\"type\":\"table\"}]},\"layout\":{\"annotationdefaults\":{\"arrowcolor\":\"#2a3f5f\",\"arrowhead\":0,\"arrowwidth\":1},\"autotypenumbers\":\"strict\",\"coloraxis\":{\"colorbar\":{\"outlinewidth\":0,\"ticks\":\"\"}},\"colorscale\":{\"diverging\":[[0,\"#8e0152\"],[0.1,\"#c51b7d\"],[0.2,\"#de77ae\"],[0.3,\"#f1b6da\"],[0.4,\"#fde0ef\"],[0.5,\"#f7f7f7\"],[0.6,\"#e6f5d0\"],[0.7,\"#b8e186\"],[0.8,\"#7fbc41\"],[0.9,\"#4d9221\"],[1,\"#276419\"]],\"sequential\":[[0.0,\"#0d0887\"],[0.1111111111111111,\"#46039f\"],[0.2222222222222222,\"#7201a8\"],[0.3333333333333333,\"#9c179e\"],[0.4444444444444444,\"#bd3786\"],[0.5555555555555556,\"#d8576b\"],[0.6666666666666666,\"#ed7953\"],[0.7777777777777778,\"#fb9f3a\"],[0.8888888888888888,\"#fdca26\"],[1.0,\"#f0f921\"]],\"sequentialminus\":[[0.0,\"#0d0887\"],[0.1111111111111111,\"#46039f\"],[0.2222222222222222,\"#7201a8\"],[0.3333333333333333,\"#9c179e\"],[0.4444444444444444,\"#bd3786\"],[0.5555555555555556,\"#d8576b\"],[0.6666666666666666,\"#ed7953\"],[0.7777777777777778,\"#fb9f3a\"],[0.8888888888888888,\"#fdca26\"],[1.0,\"#f0f921\"]]},\"colorway\":[\"#636efa\",\"#EF553B\",\"#00cc96\",\"#ab63fa\",\"#FFA15A\",\"#19d3f3\",\"#FF6692\",\"#B6E880\",\"#FF97FF\",\"#FECB52\"],\"font\":{\"color\":\"#2a3f5f\"},\"geo\":{\"bgcolor\":\"white\",\"lakecolor\":\"white\",\"landcolor\":\"#E5ECF6\",\"showlakes\":true,\"showland\":true,\"subunitcolor\":\"white\"},\"hoverlabel\":{\"align\":\"left\"},\"hovermode\":\"closest\",\"mapbox\":{\"style\":\"light\"},\"paper_bgcolor\":\"white\",\"plot_bgcolor\":\"#E5ECF6\",\"polar\":{\"angularaxis\":{\"gridcolor\":\"white\",\"linecolor\":\"white\",\"ticks\":\"\"},\"bgcolor\":\"#E5ECF6\",\"radialaxis\":{\"gridcolor\":\"white\",\"linecolor\":\"white\",\"ticks\":\"\"}},\"scene\":{\"xaxis\":{\"backgroundcolor\":\"#E5ECF6\",\"gridcolor\":\"white\",\"gridwidth\":2,\"linecolor\":\"white\",\"showbackground\":true,\"ticks\":\"\",\"zerolinecolor\":\"white\"},\"yaxis\":{\"backgroundcolor\":\"#E5ECF6\",\"gridcolor\":\"white\",\"gridwidth\":2,\"linecolor\":\"white\",\"showbackground\":true,\"ticks\":\"\",\"zerolinecolor\":\"white\"},\"zaxis\":{\"backgroundcolor\":\"#E5ECF6\",\"gridcolor\":\"white\",\"gridwidth\":2,\"linecolor\":\"white\",\"showbackground\":true,\"ticks\":\"\",\"zerolinecolor\":\"white\"}},\"shapedefaults\":{\"line\":{\"color\":\"#2a3f5f\"}},\"ternary\":{\"aaxis\":{\"gridcolor\":\"white\",\"linecolor\":\"white\",\"ticks\":\"\"},\"baxis\":{\"gridcolor\":\"white\",\"linecolor\":\"white\",\"ticks\":\"\"},\"bgcolor\":\"#E5ECF6\",\"caxis\":{\"gridcolor\":\"white\",\"linecolor\":\"white\",\"ticks\":\"\"}},\"title\":{\"x\":0.05},\"xaxis\":{\"automargin\":true,\"gridcolor\":\"white\",\"linecolor\":\"white\",\"ticks\":\"\",\"title\":{\"standoff\":15},\"zerolinecolor\":\"white\",\"zerolinewidth\":2},\"yaxis\":{\"automargin\":true,\"gridcolor\":\"white\",\"linecolor\":\"white\",\"ticks\":\"\",\"title\":{\"standoff\":15},\"zerolinecolor\":\"white\",\"zerolinewidth\":2}}},\"yaxis2\":{\"showticklabels\":true,\"ticks\":\"\"}},                        {\"responsive\": true}                    ).then(function(){\n",
       "                            \n",
       "var gd = document.getElementById('e0da1111-1903-472d-bce3-9cdbc485b3ae');\n",
       "var x = new MutationObserver(function (mutations, observer) {{\n",
       "        var display = window.getComputedStyle(gd).display;\n",
       "        if (!display || display === 'none') {{\n",
       "            console.log([gd, 'removed!']);\n",
       "            Plotly.purge(gd);\n",
       "            observer.disconnect();\n",
       "        }}\n",
       "}});\n",
       "\n",
       "// Listen for the removal of the full notebook cells\n",
       "var notebookContainer = gd.closest('#notebook-container');\n",
       "if (notebookContainer) {{\n",
       "    x.observe(notebookContainer, {childList: true});\n",
       "}}\n",
       "\n",
       "// Listen for the clearing of the current output cell\n",
       "var outputEl = gd.closest('.output');\n",
       "if (outputEl) {{\n",
       "    x.observe(outputEl, {childList: true});\n",
       "}}\n",
       "\n",
       "                        })                };                });            </script>        </div>"
      ]
     },
     "metadata": {},
     "output_type": "display_data"
    }
   ],
   "source": [
    "# viz the material\n",
    "fig = create_dendrogram(distances, labels=titles, orientation=\"right\", linkagefun=lambda x: linkage(x, \"ward\"))\n",
    "\n",
    "\n",
    "fig.update_layout({\n",
    "            'width':800, 'height':800,\n",
    "                         })\n",
    "\n",
    "# Edit yaxis2\n",
    "fig.update_layout(yaxis2={\n",
    "    'showticklabels': True,\n",
    "    'ticks':\"\"\n",
    "})\n",
    "\n",
    "fig.show()"
   ]
  },
  {
   "cell_type": "code",
   "execution_count": null,
   "id": "49586555",
   "metadata": {},
   "outputs": [],
   "source": []
  }
 ],
 "metadata": {
  "kernelspec": {
   "display_name": "Python 3 (ipykernel)",
   "language": "python",
   "name": "python3"
  },
  "language_info": {
   "codemirror_mode": {
    "name": "ipython",
    "version": 3
   },
   "file_extension": ".py",
   "mimetype": "text/x-python",
   "name": "python",
   "nbconvert_exporter": "python",
   "pygments_lexer": "ipython3",
   "version": "3.9.7"
  }
 },
 "nbformat": 4,
 "nbformat_minor": 5
}
